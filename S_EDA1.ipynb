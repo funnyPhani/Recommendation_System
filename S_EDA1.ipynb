{
 "cells": [
  {
   "cell_type": "code",
   "execution_count": 15,
   "metadata": {},
   "outputs": [],
   "source": [
    "from selenium import webdriver\n",
    "from bs4 import BeautifulSoup\n",
    "import requests\n",
    "import copy\n",
    "import re\n",
    "import pickle\n",
    "from collections import defaultdict\n",
    "import sys\n",
    "import numpy as np\n",
    "import pandas as pd\n",
    "import matplotlib.pyplot as plt\n",
    "import time\n",
    "sys.setrecursionlimit(40000) # to enable pickle to handle the dictionary load"
   ]
  },
  {
   "cell_type": "code",
   "execution_count": 112,
   "metadata": {},
   "outputs": [
    {
     "name": "stdout",
     "output_type": "stream",
     "text": [
      "https://www.glassdoor.com/Reviews/new-york-city-reviews-SRCH_IL.0,13_IM615_IP41.htm 200\n",
      "https://www.glassdoor.com/Reviews/new-york-city-reviews-SRCH_IL.0,13_IM615_IP42.htm 200\n",
      "https://www.glassdoor.com/Reviews/new-york-city-reviews-SRCH_IL.0,13_IM615_IP43.htm 200\n",
      "https://www.glassdoor.com/Reviews/new-york-city-reviews-SRCH_IL.0,13_IM615_IP44.htm 200\n",
      "https://www.glassdoor.com/Reviews/new-york-city-reviews-SRCH_IL.0,13_IM615_IP45.htm 200\n",
      "https://www.glassdoor.com/Reviews/new-york-city-reviews-SRCH_IL.0,13_IM615_IP46.htm 200\n",
      "https://www.glassdoor.com/Reviews/new-york-city-reviews-SRCH_IL.0,13_IM615_IP47.htm 200\n",
      "https://www.glassdoor.com/Reviews/new-york-city-reviews-SRCH_IL.0,13_IM615_IP48.htm 200\n",
      "https://www.glassdoor.com/Reviews/new-york-city-reviews-SRCH_IL.0,13_IM615_IP49.htm 200\n",
      "https://www.glassdoor.com/Reviews/new-york-city-reviews-SRCH_IL.0,13_IM615_IP50.htm 200\n",
      "100\n"
     ]
    }
   ],
   "source": [
    "# Why does this error sometimes (and not others)?\n",
    "\n",
    "def g_call(url):\n",
    "    headers = {'User-Agent': 'Mozilla/5.0 (Windows NT 6.1; WOW64) AppleWebKit/537.36 (KHTML, like Gecko) Chrome/56.0.2924.76 Safari/537.36'} # This is chrome, you can set whatever browser you like\n",
    "    response = requests.get(url, headers=headers)\n",
    "    print(url, response.status_code)\n",
    "    \n",
    "    co_list = []\n",
    "    revs_list = []\n",
    "    val_dict = {}\n",
    "    soup = BeautifulSoup(response.content, 'html.parser') #Pass the page contents to beautiful soup for parsing\n",
    "\n",
    "    cos = soup.findAll('a', {'class':'tightAll h2'})\n",
    "    for c in cos:\n",
    "        co_list.append(c.get_text())\n",
    "\n",
    "    reviews = soup.findAll('a', {'class':'eiCell cell reviews'})\n",
    "    for r in reviews:\n",
    "        revs_list.append('https://www.glassdoor.com'+r.get('href', '\\n'))\n",
    "    \n",
    "    main_dict = {}\n",
    "    for i in range(10):\n",
    "        # print(i, co_list[i], revs_list[i])\n",
    "        main_dict[co_list[i]] = {'link':revs_list[i]}\n",
    "    return main_dict\n",
    "\n",
    "####################\n",
    "last_page = 50\n",
    "cur_page = 41\n",
    "results = {}\n",
    "while cur_page <= last_page:\n",
    "    if cur_page == 1:\n",
    "        url = 'https://www.glassdoor.com/Reviews/new-york-city-reviews-SRCH_IL.0,13_IM615.htm'\n",
    "    else:\n",
    "        url = 'https://www.glassdoor.com/Reviews/new-york-city-reviews-SRCH_IL.0,13_IM615_IP'+str(cur_page)+'.htm'\n",
    "    results.update(g_call(url))\n",
    "    time.sleep(1) #Wait a second\n",
    "    cur_page += 1\n",
    "print(len(results))\n",
    "# print(results)"
   ]
  },
  {
   "cell_type": "code",
   "execution_count": 123,
   "metadata": {
    "collapsed": true
   },
   "outputs": [
    {
     "data": {
      "text/plain": [
       "dict_keys([' J.P. Morgan ', ' IBM ', ' Citi ', \" Macy's \", ' Verizon ', ' Morgan Stanley ', ' Goldman Sachs ', ' PwC ', ' EY ', ' Deloitte ', ' Cognizant Technology Solutions ', ' Bloomberg L.P. ', ' Bank of America ', ' American Express ', ' Columbia University ', ' AIG ', ' New York City Department of Education ', ' NYU (New York University) ', ' KPMG ', ' Viacom ', ' Johnson & Johnson ', ' Rutgers University ', ' UBS ', ' Target ', ' Credit Suisse ', ' Thomson Reuters ', ' Starbucks ', ' Barclays ', ' AT&T ', ' BNY Mellon ', ' The Home Depot ', ' Mount Sinai Health System ', ' CVS Health ', ' Deutsche Bank ', ' Apple ', ' Accenture ', ' NBCUniversal ', ' Northwell Health ', ' NewYork-Presbyterian Hospital ', ' Memorial Sloan Kettering ', ' UPS ', ' Best Buy ', ' Prudential ', ' NYU Langone Health ', ' ADP ', \" Bloomingdale's \", ' Pfizer ', ' New York Life ', ' Merck ', ' Chase ', ' Ralph Lauren ', ' TD ', ' Toys \"R\" Us ', \" McDonald's \", ' Staples ', ' MetLife ', ' Shoprite Supermarkets ', ' PepsiCo ', ' Amazon ', \" L'Oréal \", ' HSBC Holdings ', ' Google ', ' Cablevision Systems ', ' Walmart ', ' Time Inc. ', ' Estée Lauder Companies ', ' United Nations ', ' Wells Fargo ', ' Whole Foods Market ', ' Walgreens ', \" Victoria's Secret \", ' Gap ', ' Bed Bath & Beyond ', ' CA Technologies ', ' Merrill Lynch ', ' Sears ', ' Novartis ', ' Condé Nast ', ' Metropolitan Transportation Authority ', ' BlackRock ', ' Abercrombie & Fitch ', ' T-Mobile ', ' Uniqlo ', ' Con Edison ', ' McKinsey & Company ', ' Century 21 Stores ', ' Ogilvy ', ' Infosys ', ' Stony Brook University ', \" Lowe's \", ' Barnes & Noble ', ' Forever 21 ', ' Capital One ', ' Tata Consultancy Services ', ' US Postal Service ', ' Yelp ', ' Success Academy Charter Schools ', ' BNP Paribas ', ' JetBlue ', ' Nielsen ', ' Saks Fifth Avenue ', ' Rite Aid ', ' CUNY (City University of New York) ', ' J. Crew ', ' Unilever ', ' Avon ', ' Mastercard ', ' Tiffany & Co. ', ' Town Sports International Holdings ', ' Robert Half ', ' YMCA ', ' Enterprise ', ' EmblemHealth ', ' Stop & Shop ', ' Broadridge ', \" Moody's \", ' H&M ', ' Equinox Fitness ', ' Edelman ', ' Hertz ', ' PVH Corp. ', ' Pearson ', ' Ann Taylor ', ' Lord & Taylor ', ' American Eagle Outfitters ', ' Montefiore Medical ', ' Nordstrom ', ' Colgate-Palmolive ', ' Scholastic ', ' Hearst ', ' Duane Reade ', ' Wiley ', ' S&P Global Ratings ', ' Weill Cornell Medical College ', \" Kohl's \", ' Coach ', ' Société Générale ', \" Trader Joe's \", ' HBO ', ' NYC Health + Hospitals ', ' Sephora ', ' Sprint ', ' Mondo ', ' Old Navy ', ' TransPerfect ', ' Chipotle ', ' AllianceBernstein ', ' Honeywell ', ' New York Times ', ' Kmart ', ' Uber ', ' National Debt Relief ', ' Northwestern Mutual ', ' AXA Advisors ', ' Bristol-Myers Squibb ', ' Healthfirst (New York) ', \" Dunkin' Donuts \", ' Digitas ', ' Wipro ', ' Banana Republic ', ' Urban Outfitters ', \" The Children's Place \", ' CBS ', ' DISH ', ' GEICO ', ' UnitedHealth Group ', ' Horizon Blue Cross Blue Shield of New Jersey ', ' Visiting Nurse Service of New York ', ' Altice ', ' Sanofi ', ' Madison Square Garden ', ' Insight Global ', ' New York City Department of Parks and Recreation ', ' BD ', ' Sony Music Entertainment ', ' Canon U.S.A. ', ' Delta Air Lines ', ' Power Home Remodeling ', ' Oracle ', ' J. C. Penney ', ' Chubb ', ' Microsoft ', ' Regeneron Pharmaceuticals ', ' R/GA ', ' Audible ', ' RBC ', ' Panera Bread ', ' Capri Holdings ', ' Zocdoc ', ' AMC Entertainment ', ' AOL ', ' Grey Group ', ' Capgemini ', ' TIAA ', ' Panasonic ', ' GameStop ', ' Capco ', ' Samsung Electronics America ', ' Dow Jones ', \" Modell's Sporting Goods \", ' Stevens Institute of Technology ', ' Nomura Holdings ', ' Benjamin Moore ', ' PSEG ', ' Major League Baseball (MLB) ', ' Stryker ', ' Hollister Co. ', ' Zara ', ' Quest Diagnostics ', ' WeWork ', ' City of New York ', ' Xerox ', ' SHI International ', ' Penguin Random House ', ' Crothall Healthcare ', \" BJ's Wholesale Club \", ' CIT ', ' Ross Stores ', ' First Data ', ' iCIMS ', ' S&P Global ', ' Mercer ', ' Strategic Financial Solutions ', ' Burlington Stores ', ' Compass ', ' United Airlines ', ' S&P Global Market Intelligence ', ' Frank Recruitment Group ', ' Fordham University ', ' New York & Company ', ' Pace University ', ' Spectrum ', ' AECOM ', ' FactSet ', ' Dun & Bradstreet ', ' Costco Wholesale ', ' Avaya ', ' RB ', ' Guardian Life ', ' SiriusXM ', ' Coty ', ' New School ', ' Jefferies ', ' YAI - Seeing beyond disability ', ' Mavis Discount Tire ', ' FreshDirect ', ' NIKE ', ' BASF ', ' Medidata Solutions ', ' New York Police Department ', ' Federal Reserve Bank (NY) ', ' Port Authority of New York and New Jersey ', ' WebMD Health ', ' RadioShack ', ' Express ', ' Publicis ', ' American Apparel ', ' Shutterstock ', ' New Jersey Institute of Technology ', ' Aéropostale ', ' Foot Locker ', ' Handy ', ' Bayer ', ' Anthropologie ', ' AppNexus ', ' TJ Maxx ', ' Salesforce ', ' Marriott International ', ' Santander ', ' DTCC ', ' Allstate ', ' Massage Envy ', ' FDM Group ', ' Columbia University Medical Center ', \" Christie's \", ' Horizon Media ', \" Applebee's \", ' Express Scripts ', ' Mindshare ', ' PNC Financial Services Group ', ' DSW ', ' Avis Budget Group ', ' McGraw-Hill ', ' Vonage ', ' Comodo ', ' Atlantic Health System ', ' New York City Department of Health & Mental Hygiene ', ' Yext ', ' OTG Management ', ' CITYMD ', ' Marshalls ', ' Celgene ', ' AXA Equitable ', ' US Army ', ' Genpact ', ' Commvault ', ' BBDO ', ' MediaMath ', ' Bain & Company ', ' Achievement First ', ' NYSE ', ' Amplify ', ' Dollar Tree ', ' XO Group ', ' A+E Networks ', ' Ladders ', ' Aramark ', ' Publicis Sapient ', ' FedEx Ground ', ' Williams Lea Tag ', ' Brown Brothers Harriman ', ' GLG ', ' Univision ', ' Huge ', ' Protiviti ', ' Havas Worldwide ', ' Cisco Systems ', ' FOX News ', ' ALM ', ' Research Foundation of CUNY ', ' Michaels ', ' Six Flags ', ' Tory Burch ', \" The Nature's Bounty Co. \", ' City College of New York ', ' Postmates ', ' Macquarie Group ', ' McCann Worldgroup ', ' Cantor Fitzgerald ', ' Wolters Kluwer ', ' Cushman & Wakefield ', \" St. John's University \", ' Party City ', ' Meredith Corporation ', ' Uncommon Schools ', ' Bethpage Federal Credit Union ', ' FedEx ', ' Mondelēz International ', ' Teach for America ', ' Henry Schein ', ' Metropolitan Museum of Art ', ' 5W Public Relations ', ' SCO Family of Services ', ' Bath & Body Works ', ' Willis Towers Watson ', ' OMD ', ' Mizuho Financial Group ', ' Everyday Health Group ', ' Albert Einstein College of Medicine ', ' Facebook ', ' CBRE ', ' Fitch Ratings ', ' Barneys ', ' The Coca-Cola Company ', ' LinkedIn ', ' Oliver Wyman ', ' Raymour & Flanigan ', ' Verisk Analytics ', ' Conduent ', ' Ricoh USA ', ' inVentiv Health ', ' IPsoft ', ' IQVIA ', ' Adecco ', ' 360i ', ' T3 Trading Group ', ' Walt Disney Company ', ' Marsh & McLennan Companies ', ' Information Builders ', ' IHS Markit ', ' PageGroup ', ' E*TRADE Financial ', ' Oxford University Press ', ' Club Monaco ', ' Green Key Resources ', \" Harlem Children's Zone \", ' Global Brands Group ', ' The Forum Group ', ' College Board ', ' Forrest Solutions ', ' Valley National Bancorp ', ' Realogy ', ' Tommy Hilfiger ', ' Kaplan Test Prep ', ' The Jones Group ', ' JLL ', ' Turner Construction ', ' FTI Consulting ', ' National Grid USA ', ' MongoDB ', ' New York Public Library ', ' Petco ', ' Roche ', ' Grant Thornton ', ' iHeartMedia ', ' J. Walter Thompson Worldwide ', ' Bank Of Tokyo-Mitsubishi UFJ ', ' Ipreo ', ' Siemens ', ' Spotify ', ' Fidelis Care ', ' The NPD Group ', ' VaynerMedia ', ' Rockefeller University ', ' HCL Technologies ', \" Wendy's \", ' Allied Universal ', ' Kumon Group ', ' FINRA ', ' FLIK Hospitality Group ', ' Blue Apron ', ' CDM ', ' AlphaSights ', ' Neuberger Berman ', ' Rent The Runway ', ' Brookhaven National Laboratory ', ' Ericsson-Worldwide ', ' State Farm ', ' PetSmart ', ' H&R Block ', ' Fragomen ', ' WW ', ' Rue Gilt Groupe ', ' Douglas Elliman Real Estate ', ' 7-Eleven ', ' LexisNexis Legal & Professional ', ' RSM ', ' Vice Media ', ' New York Community Bancorp ', ' Long Island University ', ' Thomas ', ' Makerbot ', ' Fidelity Investments ', ' European Wax Center ', ' Gensler ', ' National Income Life ', ' Bio-Reference Labs ', ' Vector Marketing ', ' MAC Cosmetics ', ' TD Ameritrade ', ' Nasdaq ', ' Mercedes-Benz USA ', ' MEC ', ' Oscar Health ', ' WarnerMedia ', ' Hospital for Special Surgery ', ' New York Institute of Technology ', ' Argus Information & Advisory Services ', ' GroupM ', ' Carat ', ' Interbrand ', ' OnDeck ', ' Crestron Electronics ', ' Weber Shandwick ', ' Burger King ', ' Experian ', ' Bright Horizons Family Solutions ', ' kate spade ', ' Baruch College ', ' Sprinklr ', ' Integra LifeSciences ', ' Spark Foundry ', ' New York City Housing Authority ', ' Martha Stewart Living ', ' TheStreet ', ' Life Time ', ' Aflac ', ' Boston Consulting Group ', ' Infor ', ' BAYADA Home Health Care ', ' Discovery, Inc. ', ' Hunter College ', ' US Standard Products ', ' Keller Williams ', ' The Container Store ', ' BDO USA ', ' SinglePlatform ', ' American Airlines ', ' TGI Fridays ', ' Wawa ', ' Konica Minolta Business Solutions ', ' The Vitamin Shoppe ', ' Marsh ', ' FCB Global ', ' Saatchi & Saatchi Group ', ' CareOne ', ' Robert Wood Johnson University Hospital ', ' Simon & Schuster ', ' NYC Department of Human Resource Administration ', ' Subway ', \" DICK'S Sporting Goods \", ' EXL Service ', ' Allergan ', ' Young & Rubicam ', ' NBA ', ' AHRC New York City ', ' SAP ', \" Domino's \", ' IKEA ', ' GNC '])"
      ]
     },
     "execution_count": 123,
     "metadata": {},
     "output_type": "execute_result"
    }
   ],
   "source": [
    "# first round only\n",
    "# review_dict = {} \n",
    "# review_dict.keys()"
   ]
  },
  {
   "cell_type": "code",
   "execution_count": 113,
   "metadata": {
    "collapsed": true
   },
   "outputs": [
    {
     "name": "stdout",
     "output_type": "stream",
     "text": [
      "500\n",
      "dict_values([{'link': 'https://www.glassdoor.com/Reviews/J-P-Morgan-Reviews-E145.htm'}, {'link': 'https://www.glassdoor.com/Reviews/IBM-Reviews-E354.htm'}, {'link': 'https://www.glassdoor.com/Reviews/Citi-Reviews-E8843.htm'}, {'link': 'https://www.glassdoor.com/Reviews/Macy-s-Reviews-E1079.htm'}, {'link': 'https://www.glassdoor.com/Reviews/Verizon-Reviews-E89.htm'}, {'link': 'https://www.glassdoor.com/Reviews/Morgan-Stanley-Reviews-E2282.htm'}, {'link': 'https://www.glassdoor.com/Reviews/Goldman-Sachs-Reviews-E2800.htm'}, {'link': 'https://www.glassdoor.com/Reviews/PwC-Reviews-E8450.htm'}, {'link': 'https://www.glassdoor.com/Reviews/EY-Reviews-E2784.htm'}, {'link': 'https://www.glassdoor.com/Reviews/Deloitte-Reviews-E2763.htm'}, {'link': 'https://www.glassdoor.com/Reviews/Cognizant-Technology-Solutions-Reviews-E8014.htm'}, {'link': 'https://www.glassdoor.com/Reviews/Bloomberg-L-P-Reviews-E3096.htm'}, {'link': 'https://www.glassdoor.com/Reviews/Bank-of-America-Reviews-E8874.htm'}, {'link': 'https://www.glassdoor.com/Reviews/American-Express-Reviews-E35.htm'}, {'link': 'https://www.glassdoor.com/Reviews/Columbia-University-Reviews-E2748.htm'}, {'link': 'https://www.glassdoor.com/Reviews/AIG-Reviews-E40.htm'}, {'link': 'https://www.glassdoor.com/Reviews/New-York-City-Department-of-Education-Reviews-E105247.htm'}, {'link': 'https://www.glassdoor.com/Reviews/NYU-New-York-University-Reviews-E2917.htm'}, {'link': 'https://www.glassdoor.com/Reviews/KPMG-Reviews-E2867.htm'}, {'link': 'https://www.glassdoor.com/Reviews/Viacom-Reviews-E40260.htm'}, {'link': 'https://www.glassdoor.com/Reviews/Johnson-and-Johnson-Reviews-E364.htm'}, {'link': 'https://www.glassdoor.com/Reviews/Rutgers-University-Reviews-E22285.htm'}, {'link': 'https://www.glassdoor.com/Reviews/UBS-Reviews-E3419.htm'}, {'link': 'https://www.glassdoor.com/Reviews/Target-Reviews-E194.htm'}, {'link': 'https://www.glassdoor.com/Reviews/Credit-Suisse-Reviews-E3141.htm'}, {'link': 'https://www.glassdoor.com/Reviews/Thomson-Reuters-Reviews-E100303.htm'}, {'link': 'https://www.glassdoor.com/Reviews/Starbucks-Reviews-E2202.htm'}, {'link': 'https://www.glassdoor.com/Reviews/Barclays-Reviews-E3456.htm'}, {'link': 'https://www.glassdoor.com/Reviews/AT-and-T-Reviews-E613.htm'}, {'link': 'https://www.glassdoor.com/Reviews/BNY-Mellon-Reviews-E78.htm'}, {'link': 'https://www.glassdoor.com/Reviews/The-Home-Depot-Reviews-E655.htm'}, {'link': 'https://www.glassdoor.com/Reviews/Mount-Sinai-Health-System-Reviews-E121517.htm'}, {'link': 'https://www.glassdoor.com/Reviews/CVS-Health-Reviews-E437.htm'}, {'link': 'https://www.glassdoor.com/Reviews/Deutsche-Bank-Reviews-E3150.htm'}, {'link': 'https://www.glassdoor.com/Reviews/Apple-Reviews-E1138.htm'}, {'link': 'https://www.glassdoor.com/Reviews/Accenture-Reviews-E4138.htm'}, {'link': 'https://www.glassdoor.com/Reviews/NBCUniversal-Reviews-E32038.htm'}, {'link': 'https://www.glassdoor.com/Reviews/Northwell-Health-Reviews-E1142964.htm'}, {'link': 'https://www.glassdoor.com/Reviews/NewYork-Presbyterian-Hospital-Reviews-E121522.htm'}, {'link': 'https://www.glassdoor.com/Reviews/Memorial-Sloan-Kettering-Reviews-E4711.htm'}, {'link': 'https://www.glassdoor.com/Reviews/UPS-Reviews-E3012.htm'}, {'link': 'https://www.glassdoor.com/Reviews/Best-Buy-Reviews-E97.htm'}, {'link': 'https://www.glassdoor.com/Reviews/Prudential-Reviews-E2944.htm'}, {'link': 'https://www.glassdoor.com/Reviews/NYU-Langone-Health-Reviews-E121521.htm'}, {'link': 'https://www.glassdoor.com/Reviews/ADP-Reviews-E64.htm'}, {'link': 'https://www.glassdoor.com/Reviews/Bloomingdale-s-Reviews-E14465.htm'}, {'link': 'https://www.glassdoor.com/Reviews/Pfizer-Reviews-E525.htm'}, {'link': 'https://www.glassdoor.com/Reviews/New-York-Life-Reviews-E2915.htm'}, {'link': 'https://www.glassdoor.com/Reviews/Merck-Reviews-E438.htm'}, {'link': 'https://www.glassdoor.com/Reviews/Chase-Reviews-E690765.htm'}, {'link': 'https://www.glassdoor.com/Reviews/Ralph-Lauren-Reviews-E2937.htm'}, {'link': 'https://www.glassdoor.com/Reviews/TD-Reviews-E3767.htm'}, {'link': 'https://www.glassdoor.com/Reviews/Toys-R-Us-Reviews-E672.htm'}, {'link': 'https://www.glassdoor.com/Reviews/McDonald-s-Reviews-E432.htm'}, {'link': 'https://www.glassdoor.com/Reviews/Staples-Reviews-E1909.htm'}, {'link': 'https://www.glassdoor.com/Reviews/MetLife-Reviews-E2899.htm'}, {'link': 'https://www.glassdoor.com/Reviews/Shoprite-Supermarkets-Reviews-E346610.htm'}, {'link': 'https://www.glassdoor.com/Reviews/PepsiCo-Reviews-E522.htm'}, {'link': 'https://www.glassdoor.com/Reviews/Amazon-Reviews-E6036.htm'}, {'link': 'https://www.glassdoor.com/Reviews/L-Oréal-Reviews-E3470.htm'}, {'link': 'https://www.glassdoor.com/Reviews/HSBC-Holdings-Reviews-E3482.htm'}, {'link': 'https://www.glassdoor.com/Reviews/Google-Reviews-E9079.htm'}, {'link': 'https://www.glassdoor.com/Reviews/Cablevision-Systems-Reviews-E802.htm'}, {'link': 'https://www.glassdoor.com/Reviews/Walmart-Reviews-E715.htm'}, {'link': 'https://www.glassdoor.com/Reviews/Time-Inc-Reviews-E4192.htm'}, {'link': 'https://www.glassdoor.com/Reviews/Estée-Lauder-Companies-Reviews-E2785.htm'}, {'link': 'https://www.glassdoor.com/Reviews/United-Nations-Reviews-E21435.htm'}, {'link': 'https://www.glassdoor.com/Reviews/Wells-Fargo-Reviews-E8876.htm'}, {'link': 'https://www.glassdoor.com/Reviews/Whole-Foods-Market-Reviews-E422.htm'}, {'link': 'https://www.glassdoor.com/Reviews/Walgreens-Reviews-E716.htm'}, {'link': 'https://www.glassdoor.com/Reviews/Victoria-s-Secret-Reviews-E13903.htm'}, {'link': 'https://www.glassdoor.com/Reviews/Gap-Reviews-E114118.htm'}, {'link': 'https://www.glassdoor.com/Reviews/Bed-Bath-and-Beyond-Reviews-E1961.htm'}, {'link': 'https://www.glassdoor.com/Reviews/CA-Technologies-Reviews-E167.htm'}, {'link': 'https://www.glassdoor.com/Reviews/Merrill-Lynch-Reviews-E440.htm'}, {'link': 'https://www.glassdoor.com/Reviews/Sears-Reviews-E37984.htm'}, {'link': 'https://www.glassdoor.com/Reviews/Novartis-Reviews-E6667.htm'}, {'link': 'https://www.glassdoor.com/Reviews/Condé-Nast-Reviews-E8360.htm'}, {'link': 'https://www.glassdoor.com/Reviews/Metropolitan-Transportation-Authority-Reviews-E366592.htm'}, {'link': 'https://www.glassdoor.com/Reviews/BlackRock-Reviews-E9331.htm'}, {'link': 'https://www.glassdoor.com/Reviews/Abercrombie-and-Fitch-Reviews-E6756.htm'}, {'link': 'https://www.glassdoor.com/Reviews/T-Mobile-Reviews-E9302.htm'}, {'link': 'https://www.glassdoor.com/Reviews/Uniqlo-Reviews-E320880.htm'}, {'link': 'https://www.glassdoor.com/Reviews/Con-Edison-Reviews-E16462.htm'}, {'link': 'https://www.glassdoor.com/Reviews/McKinsey-and-Company-Reviews-E2893.htm'}, {'link': 'https://www.glassdoor.com/Reviews/Century-21-Stores-Reviews-E136156.htm'}, {'link': 'https://www.glassdoor.com/Reviews/Ogilvy-Reviews-E13661.htm'}, {'link': 'https://www.glassdoor.com/Reviews/Infosys-Reviews-E7927.htm'}, {'link': 'https://www.glassdoor.com/Reviews/Stony-Brook-University-Reviews-E33757.htm'}, {'link': 'https://www.glassdoor.com/Reviews/Lowe-s-Reviews-E415.htm'}, {'link': 'https://www.glassdoor.com/Reviews/Barnes-and-Noble-Reviews-E2439.htm'}, {'link': 'https://www.glassdoor.com/Reviews/Forever-21-Reviews-E13361.htm'}, {'link': 'https://www.glassdoor.com/Reviews/Capital-One-Reviews-E3736.htm'}, {'link': 'https://www.glassdoor.com/Reviews/Tata-Consultancy-Services-Reviews-E13461.htm'}, {'link': 'https://www.glassdoor.com/Reviews/US-Postal-Service-Reviews-E3032.htm'}, {'link': 'https://www.glassdoor.com/Reviews/Yelp-Reviews-E43314.htm'}, {'link': 'https://www.glassdoor.com/Reviews/Success-Academy-Charter-Schools-Reviews-E381408.htm'}, {'link': 'https://www.glassdoor.com/Reviews/BNP-Paribas-Reviews-E10342.htm'}, {'link': 'https://www.glassdoor.com/Reviews/JetBlue-Reviews-E11385.htm'}, {'link': 'https://www.glassdoor.com/Reviews/Nielsen-Reviews-E3776.htm'}, {'link': 'https://www.glassdoor.com/Reviews/Saks-Fifth-Avenue-Reviews-E2963.htm'}, {'link': 'https://www.glassdoor.com/Reviews/Rite-Aid-Reviews-E565.htm'}, {'link': 'https://www.glassdoor.com/Reviews/CUNY-City-University-of-New-York-Reviews-E3726.htm'}, {'link': 'https://www.glassdoor.com/Reviews/J-Crew-Reviews-E2848.htm'}, {'link': 'https://www.glassdoor.com/Reviews/Unilever-Reviews-E3513.htm'}, {'link': 'https://www.glassdoor.com/Reviews/Avon-Reviews-E67.htm'}, {'link': 'https://www.glassdoor.com/Reviews/Mastercard-Reviews-E3677.htm'}, {'link': 'https://www.glassdoor.com/Reviews/Tiffany-and-Co-Reviews-E663.htm'}, {'link': 'https://www.glassdoor.com/Reviews/Town-Sports-International-Holdings-Reviews-E8690.htm'}, {'link': 'https://www.glassdoor.com/Reviews/Robert-Half-Reviews-E1838.htm'}, {'link': 'https://www.glassdoor.com/Reviews/YMCA-Reviews-E3046.htm'}, {'link': 'https://www.glassdoor.com/Reviews/Enterprise-Reviews-E2783.htm'}, {'link': 'https://www.glassdoor.com/Reviews/EmblemHealth-Reviews-E157147.htm'}, {'link': 'https://www.glassdoor.com/Reviews/Stop-and-Shop-Reviews-E2117.htm'}, {'link': 'https://www.glassdoor.com/Reviews/Broadridge-Reviews-E42559.htm'}, {'link': 'https://www.glassdoor.com/Reviews/Moody-s-Reviews-E11303.htm'}, {'link': 'https://www.glassdoor.com/Reviews/H-and-M-Reviews-E11918.htm'}, {'link': 'https://www.glassdoor.com/Reviews/Equinox-Fitness-Reviews-E134448.htm'}, {'link': 'https://www.glassdoor.com/Reviews/Edelman-Reviews-E4608.htm'}, {'link': 'https://www.glassdoor.com/Reviews/Hertz-Reviews-E4071.htm'}, {'link': 'https://www.glassdoor.com/Reviews/PVH-Corp-Reviews-E530.htm'}, {'link': 'https://www.glassdoor.com/Reviews/Pearson-Reviews-E3322.htm'}, {'link': 'https://www.glassdoor.com/Reviews/Ann-Taylor-Reviews-E1972.htm'}, {'link': 'https://www.glassdoor.com/Reviews/Lord-and-Taylor-Reviews-E42387.htm'}, {'link': 'https://www.glassdoor.com/Reviews/American-Eagle-Outfitters-Reviews-E2642.htm'}, {'link': 'https://www.glassdoor.com/Reviews/Montefiore-Medical-Reviews-E2905.htm'}, {'link': 'https://www.glassdoor.com/Reviews/Nordstrom-Reviews-E1704.htm'}, {'link': 'https://www.glassdoor.com/Reviews/Colgate-Palmolive-Reviews-E162.htm'}, {'link': 'https://www.glassdoor.com/Reviews/Scholastic-Reviews-E2142.htm'}, {'link': 'https://www.glassdoor.com/Reviews/Hearst-Reviews-E2823.htm'}, {'link': 'https://www.glassdoor.com/Reviews/Duane-Reade-Reviews-E7504.htm'}, {'link': 'https://www.glassdoor.com/Reviews/Wiley-Reviews-E1551.htm'}, {'link': 'https://www.glassdoor.com/Reviews/S-and-P-Global-Ratings-Reviews-E30287.htm'}, {'link': 'https://www.glassdoor.com/Reviews/Weill-Cornell-Medical-College-Reviews-E113342.htm'}, {'link': 'https://www.glassdoor.com/Reviews/Kohl-s-Reviews-E592.htm'}, {'link': 'https://www.glassdoor.com/Reviews/Coach-Reviews-E12070.htm'}, {'link': 'https://www.glassdoor.com/Reviews/Société-Générale-Reviews-E10350.htm'}, {'link': 'https://www.glassdoor.com/Reviews/Trader-Joe-s-Reviews-E5631.htm'}, {'link': 'https://www.glassdoor.com/Reviews/HBO-Reviews-E13635.htm'}, {'link': 'https://www.glassdoor.com/Reviews/NYC-Health-Hospitals-Reviews-E1061951.htm'}, {'link': 'https://www.glassdoor.com/Reviews/Sephora-Reviews-E14590.htm'}, {'link': 'https://www.glassdoor.com/Reviews/Sprint-Reviews-E13345.htm'}, {'link': 'https://www.glassdoor.com/Reviews/Mondo-Reviews-E670274.htm'}, {'link': 'https://www.glassdoor.com/Reviews/Old-Navy-Reviews-E18861.htm'}, {'link': 'https://www.glassdoor.com/Reviews/TransPerfect-Reviews-E32824.htm'}, {'link': 'https://www.glassdoor.com/Reviews/Chipotle-Reviews-E15228.htm'}, {'link': 'https://www.glassdoor.com/Reviews/AllianceBernstein-Reviews-E14976.htm'}, {'link': 'https://www.glassdoor.com/Reviews/Honeywell-Reviews-E28.htm'}, {'link': 'https://www.glassdoor.com/Reviews/New-York-Times-Reviews-E960.htm'}, {'link': 'https://www.glassdoor.com/Reviews/Kmart-Reviews-E370.htm'}, {'link': 'https://www.glassdoor.com/Reviews/Uber-Reviews-E575263.htm'}, {'link': 'https://www.glassdoor.com/Reviews/National-Debt-Relief-Reviews-E707737.htm'}, {'link': 'https://www.glassdoor.com/Reviews/Northwestern-Mutual-Reviews-E2919.htm'}, {'link': 'https://www.glassdoor.com/Reviews/AXA-Advisors-Reviews-E27624.htm'}, {'link': 'https://www.glassdoor.com/Reviews/Bristol-Myers-Squibb-Reviews-E107.htm'}, {'link': 'https://www.glassdoor.com/Reviews/Healthfirst-New-York-Reviews-E19100.htm'}, {'link': 'https://www.glassdoor.com/Reviews/Dunkin-Donuts-Reviews-E19153.htm'}, {'link': 'https://www.glassdoor.com/Reviews/Digitas-Reviews-E760746.htm'}, {'link': 'https://www.glassdoor.com/Reviews/Wipro-Reviews-E9936.htm'}, {'link': 'https://www.glassdoor.com/Reviews/Banana-Republic-Reviews-E23057.htm'}, {'link': 'https://www.glassdoor.com/Reviews/Urban-Outfitters-Reviews-E2372.htm'}, {'link': 'https://www.glassdoor.com/Reviews/The-Children-s-Place-Reviews-E7028.htm'}, {'link': 'https://www.glassdoor.com/Reviews/CBS-Reviews-E117.htm'}, {'link': 'https://www.glassdoor.com/Reviews/DISH-Reviews-E4501.htm'}, {'link': 'https://www.glassdoor.com/Reviews/GEICO-Reviews-E270.htm'}, {'link': 'https://www.glassdoor.com/Reviews/UnitedHealth-Group-Reviews-E1991.htm'}, {'link': 'https://www.glassdoor.com/Reviews/Horizon-Blue-Cross-Blue-Shield-of-New-Jersey-Reviews-E299267.htm'}, {'link': 'https://www.glassdoor.com/Reviews/Visiting-Nurse-Service-of-New-York-Reviews-E19812.htm'}, {'link': 'https://www.glassdoor.com/Reviews/Altice-Reviews-E1315515.htm'}, {'link': 'https://www.glassdoor.com/Reviews/Sanofi-Reviews-E9347.htm'}, {'link': 'https://www.glassdoor.com/Reviews/Madison-Square-Garden-Reviews-E16146.htm'}, {'link': 'https://www.glassdoor.com/Reviews/Insight-Global-Reviews-E152783.htm'}, {'link': 'https://www.glassdoor.com/Reviews/New-York-City-Department-of-Parks-and-Recreation-Reviews-E107681.htm'}, {'link': 'https://www.glassdoor.com/Reviews/BD-Reviews-E88.htm'}, {'link': 'https://www.glassdoor.com/Reviews/Sony-Music-Entertainment-Reviews-E37127.htm'}, {'link': 'https://www.glassdoor.com/Reviews/Canon-U-S-A-Reviews-E4149.htm'}, {'link': 'https://www.glassdoor.com/Reviews/Delta-Air-Lines-Reviews-E197.htm'}, {'link': 'https://www.glassdoor.com/Reviews/Power-Home-Remodeling-Reviews-E405781.htm'}, {'link': 'https://www.glassdoor.com/Reviews/Oracle-Reviews-E1737.htm'}, {'link': 'https://www.glassdoor.com/Reviews/J-C-Penney-Reviews-E361.htm'}, {'link': 'https://www.glassdoor.com/Reviews/Chubb-Reviews-E150.htm'}, {'link': 'https://www.glassdoor.com/Reviews/Microsoft-Reviews-E1651.htm'}, {'link': 'https://www.glassdoor.com/Reviews/Regeneron-Pharmaceuticals-Reviews-E981.htm'}, {'link': 'https://www.glassdoor.com/Reviews/R-GA-Reviews-E23929.htm'}, {'link': 'https://www.glassdoor.com/Reviews/Audible-Reviews-E9266.htm'}, {'link': 'https://www.glassdoor.com/Reviews/RBC-Reviews-E3358.htm'}, {'link': 'https://www.glassdoor.com/Reviews/Panera-Bread-Reviews-E1493.htm'}, {'link': 'https://www.glassdoor.com/Reviews/Capri-Holdings-Reviews-E20439.htm'}, {'link': 'https://www.glassdoor.com/Reviews/Zocdoc-Reviews-E250247.htm'}, {'link': 'https://www.glassdoor.com/Reviews/AMC-Entertainment-Reviews-E758.htm'}, {'link': 'https://www.glassdoor.com/Reviews/AOL-Reviews-E2151.htm'}, {'link': 'https://www.glassdoor.com/Reviews/Grey-Group-Reviews-E1459.htm'}, {'link': 'https://www.glassdoor.com/Reviews/Capgemini-Reviews-E3803.htm'}, {'link': 'https://www.glassdoor.com/Reviews/TIAA-Reviews-E2998.htm'}, {'link': 'https://www.glassdoor.com/Reviews/Panasonic-Reviews-E4279.htm'}, {'link': 'https://www.glassdoor.com/Reviews/GameStop-Reviews-E1162.htm'}, {'link': 'https://www.glassdoor.com/Reviews/Capco-Reviews-E400565.htm'}, {'link': 'https://www.glassdoor.com/Reviews/Samsung-Electronics-America-Reviews-E4206.htm'}, {'link': 'https://www.glassdoor.com/Reviews/Dow-Jones-Reviews-E208.htm'}, {'link': 'https://www.glassdoor.com/Reviews/Modell-s-Sporting-Goods-Reviews-E4382.htm'}, {'link': 'https://www.glassdoor.com/Reviews/Stevens-Institute-of-Technology-Reviews-E24409.htm'}, {'link': 'https://www.glassdoor.com/Reviews/Nomura-Holdings-Reviews-E3475.htm'}, {'link': 'https://www.glassdoor.com/Reviews/Benjamin-Moore-Reviews-E3089.htm'}, {'link': 'https://www.glassdoor.com/Reviews/PSEG-Reviews-E16719.htm'}, {'link': 'https://www.glassdoor.com/Reviews/Major-League-Baseball-MLB-Reviews-E2883.htm'}, {'link': 'https://www.glassdoor.com/Reviews/Stryker-Reviews-E1918.htm'}, {'link': 'https://www.glassdoor.com/Reviews/Hollister-Co-Reviews-E466037.htm'}, {'link': 'https://www.glassdoor.com/Reviews/Zara-Reviews-E17544.htm'}, {'link': 'https://www.glassdoor.com/Reviews/Quest-Diagnostics-Reviews-E6655.htm'}, {'link': 'https://www.glassdoor.com/Reviews/WeWork-Reviews-E661275.htm'}, {'link': 'https://www.glassdoor.com/Reviews/City-of-New-York-Reviews-E43156.htm'}, {'link': 'https://www.glassdoor.com/Reviews/Xerox-Reviews-E747.htm'}, {'link': 'https://www.glassdoor.com/Reviews/SHI-International-Reviews-E14216.htm'}, {'link': 'https://www.glassdoor.com/Reviews/Penguin-Random-House-Reviews-E743403.htm'}, {'link': 'https://www.glassdoor.com/Reviews/Crothall-Healthcare-Reviews-E31949.htm'}, {'link': 'https://www.glassdoor.com/Reviews/BJ-s-Wholesale-Club-Reviews-E6813.htm'}, {'link': 'https://www.glassdoor.com/Reviews/CIT-Reviews-E6835.htm'}, {'link': 'https://www.glassdoor.com/Reviews/Ross-Stores-Reviews-E1843.htm'}, {'link': 'https://www.glassdoor.com/Reviews/First-Data-Reviews-E1787.htm'}, {'link': 'https://www.glassdoor.com/Reviews/iCIMS-Reviews-E34908.htm'}, {'link': 'https://www.glassdoor.com/Reviews/S-and-P-Global-Reviews-E1259396.htm'}, {'link': 'https://www.glassdoor.com/Reviews/Mercer-Reviews-E35818.htm'}, {'link': 'https://www.glassdoor.com/Reviews/Strategic-Financial-Solutions-Reviews-E1027494.htm'}, {'link': 'https://www.glassdoor.com/Reviews/Burlington-Stores-Reviews-E114.htm'}, {'link': 'https://www.glassdoor.com/Reviews/Compass-Reviews-E719025.htm'}, {'link': 'https://www.glassdoor.com/Reviews/United-Airlines-Reviews-E683.htm'}, {'link': 'https://www.glassdoor.com/Reviews/S-and-P-Global-Market-Intelligence-Reviews-E34323.htm'}, {'link': 'https://www.glassdoor.com/Reviews/Frank-Recruitment-Group-Reviews-E1181558.htm'}, {'link': 'https://www.glassdoor.com/Reviews/Fordham-University-Reviews-E5323.htm'}, {'link': 'https://www.glassdoor.com/Reviews/New-York-and-Company-Reviews-E14594.htm'}, {'link': 'https://www.glassdoor.com/Reviews/Pace-University-Reviews-E5328.htm'}, {'link': 'https://www.glassdoor.com/Reviews/Spectrum-Reviews-E1500006.htm'}, {'link': 'https://www.glassdoor.com/Reviews/AECOM-Reviews-E5632.htm'}, {'link': 'https://www.glassdoor.com/Reviews/FactSet-Reviews-E6066.htm'}, {'link': 'https://www.glassdoor.com/Reviews/Dun-and-Bradstreet-Reviews-E213.htm'}, {'link': 'https://www.glassdoor.com/Reviews/Costco-Wholesale-Reviews-E2590.htm'}, {'link': 'https://www.glassdoor.com/Reviews/Avaya-Reviews-E12121.htm'}, {'link': 'https://www.glassdoor.com/Reviews/RB-Reviews-E3600.htm'}, {'link': 'https://www.glassdoor.com/Reviews/Guardian-Life-Reviews-E2810.htm'}, {'link': 'https://www.glassdoor.com/Reviews/SiriusXM-Reviews-E5128.htm'}, {'link': 'https://www.glassdoor.com/Reviews/Coty-Reviews-E7654.htm'}, {'link': 'https://www.glassdoor.com/Reviews/New-School-Reviews-E26556.htm'}, {'link': 'https://www.glassdoor.com/Reviews/Jefferies-Reviews-E1546.htm'}, {'link': 'https://www.glassdoor.com/Reviews/YAI-Seeing-beyond-disability-Reviews-E28937.htm'}, {'link': 'https://www.glassdoor.com/Reviews/Mavis-Discount-Tire-Reviews-E469811.htm'}, {'link': 'https://www.glassdoor.com/Reviews/FreshDirect-Reviews-E15793.htm'}, {'link': 'https://www.glassdoor.com/Reviews/NIKE-Reviews-E1699.htm'}, {'link': 'https://www.glassdoor.com/Reviews/BASF-Reviews-E4231.htm'}, {'link': 'https://www.glassdoor.com/Reviews/Medidata-Solutions-Reviews-E16679.htm'}, {'link': 'https://www.glassdoor.com/Reviews/New-York-Police-Department-Reviews-E106980.htm'}, {'link': 'https://www.glassdoor.com/Reviews/Federal-Reserve-Bank-NY-Reviews-E5421.htm'}, {'link': 'https://www.glassdoor.com/Reviews/Port-Authority-of-New-York-and-New-Jersey-Reviews-E3680.htm'}, {'link': 'https://www.glassdoor.com/Reviews/WebMD-Health-Reviews-E38258.htm'}, {'link': 'https://www.glassdoor.com/Reviews/RadioShack-Reviews-E641.htm'}, {'link': 'https://www.glassdoor.com/Reviews/Express-Reviews-E14597.htm'}, {'link': 'https://www.glassdoor.com/Reviews/Publicis-Reviews-E5844.htm'}, {'link': 'https://www.glassdoor.com/Reviews/American-Apparel-Reviews-E18373.htm'}, {'link': 'https://www.glassdoor.com/Reviews/Shutterstock-Reviews-E270840.htm'}, {'link': 'https://www.glassdoor.com/Reviews/New-Jersey-Institute-of-Technology-Reviews-E25816.htm'}, {'link': 'https://www.glassdoor.com/Reviews/Aéropostale-Reviews-E14914.htm'}, {'link': 'https://www.glassdoor.com/Reviews/Foot-Locker-Reviews-E238.htm'}, {'link': 'https://www.glassdoor.com/Reviews/Handy-Reviews-E680570.htm'}, {'link': 'https://www.glassdoor.com/Reviews/Bayer-Reviews-E4245.htm'}, {'link': 'https://www.glassdoor.com/Reviews/Anthropologie-Reviews-E241754.htm'}, {'link': 'https://www.glassdoor.com/Reviews/AppNexus-Reviews-E347870.htm'}, {'link': 'https://www.glassdoor.com/Reviews/TJ-Maxx-Reviews-E242612.htm'}, {'link': 'https://www.glassdoor.com/Reviews/Salesforce-Reviews-E11159.htm'}, {'link': 'https://www.glassdoor.com/Reviews/Marriott-International-Reviews-E7790.htm'}, {'link': 'https://www.glassdoor.com/Reviews/Santander-Reviews-E828048.htm'}, {'link': 'https://www.glassdoor.com/Reviews/DTCC-Reviews-E14252.htm'}, {'link': 'https://www.glassdoor.com/Reviews/Allstate-Reviews-E2341.htm'}, {'link': 'https://www.glassdoor.com/Reviews/Massage-Envy-Reviews-E114803.htm'}, {'link': 'https://www.glassdoor.com/Reviews/FDM-Group-Reviews-E234827.htm'}, {'link': 'https://www.glassdoor.com/Reviews/Columbia-University-Medical-Center-Reviews-E369238.htm'}, {'link': 'https://www.glassdoor.com/Reviews/Christie-s-Reviews-E10292.htm'}, {'link': 'https://www.glassdoor.com/Reviews/Horizon-Media-Reviews-E13677.htm'}, {'link': 'https://www.glassdoor.com/Reviews/Applebee-s-Reviews-E1453.htm'}, {'link': 'https://www.glassdoor.com/Reviews/Express-Scripts-Reviews-E2212.htm'}, {'link': 'https://www.glassdoor.com/Reviews/Mindshare-Reviews-E35287.htm'}, {'link': 'https://www.glassdoor.com/Reviews/PNC-Financial-Services-Group-Reviews-E507.htm'}, {'link': 'https://www.glassdoor.com/Reviews/DSW-Reviews-E38052.htm'}, {'link': 'https://www.glassdoor.com/Reviews/Avis-Budget-Group-Reviews-E7303.htm'}, {'link': 'https://www.glassdoor.com/Reviews/McGraw-Hill-Reviews-E36749.htm'}, {'link': 'https://www.glassdoor.com/Reviews/Vonage-Reviews-E23019.htm'}, {'link': 'https://www.glassdoor.com/Reviews/Comodo-Reviews-E36116.htm'}, {'link': 'https://www.glassdoor.com/Reviews/Atlantic-Health-System-Reviews-E17694.htm'}, {'link': 'https://www.glassdoor.com/Reviews/New-York-City-Department-of-Health-and-Mental-Hygiene-Reviews-E212691.htm'}, {'link': 'https://www.glassdoor.com/Reviews/Yext-Reviews-E312260.htm'}, {'link': 'https://www.glassdoor.com/Reviews/OTG-Management-Reviews-E372150.htm'}, {'link': 'https://www.glassdoor.com/Reviews/CITYMD-Reviews-E690530.htm'}, {'link': 'https://www.glassdoor.com/Reviews/Marshalls-Reviews-E155412.htm'}, {'link': 'https://www.glassdoor.com/Reviews/Celgene-Reviews-E1235.htm'}, {'link': 'https://www.glassdoor.com/Reviews/AXA-Equitable-Reviews-E19955.htm'}, {'link': 'https://www.glassdoor.com/Reviews/US-Army-Reviews-E41322.htm'}, {'link': 'https://www.glassdoor.com/Reviews/Genpact-Reviews-E42613.htm'}, {'link': 'https://www.glassdoor.com/Reviews/Commvault-Reviews-E16184.htm'}, {'link': 'https://www.glassdoor.com/Reviews/BBDO-Reviews-E14065.htm'}, {'link': 'https://www.glassdoor.com/Reviews/MediaMath-Reviews-E346865.htm'}, {'link': 'https://www.glassdoor.com/Reviews/Bain-and-Company-Reviews-E3752.htm'}, {'link': 'https://www.glassdoor.com/Reviews/Achievement-First-Reviews-E297029.htm'}, {'link': 'https://www.glassdoor.com/Reviews/NYSE-Reviews-E3307.htm'}, {'link': 'https://www.glassdoor.com/Reviews/Amplify-Reviews-E689638.htm'}, {'link': 'https://www.glassdoor.com/Reviews/Dollar-Tree-Reviews-E4033.htm'}, {'link': 'https://www.glassdoor.com/Reviews/XO-Group-Reviews-E9843.htm'}, {'link': 'https://www.glassdoor.com/Reviews/A-E-Networks-Reviews-E5485.htm'}, {'link': 'https://www.glassdoor.com/Reviews/Ladders-Reviews-E39451.htm'}, {'link': 'https://www.glassdoor.com/Reviews/Aramark-Reviews-E2716.htm'}, {'link': 'https://www.glassdoor.com/Reviews/Publicis-Sapient-Reviews-E1646026.htm'}, {'link': 'https://www.glassdoor.com/Reviews/FedEx-Ground-Reviews-E16846.htm'}, {'link': 'https://www.glassdoor.com/Reviews/Williams-Lea-Tag-Reviews-E31609.htm'}, {'link': 'https://www.glassdoor.com/Reviews/Brown-Brothers-Harriman-Reviews-E3668.htm'}, {'link': 'https://www.glassdoor.com/Reviews/GLG-Reviews-E229651.htm'}, {'link': 'https://www.glassdoor.com/Reviews/Univision-Reviews-E6046.htm'}, {'link': 'https://www.glassdoor.com/Reviews/Huge-Reviews-E139928.htm'}, {'link': 'https://www.glassdoor.com/Reviews/Protiviti-Reviews-E30849.htm'}, {'link': 'https://www.glassdoor.com/Reviews/Havas-Worldwide-Reviews-E14455.htm'}, {'link': 'https://www.glassdoor.com/Reviews/Cisco-Systems-Reviews-E1425.htm'}, {'link': 'https://www.glassdoor.com/Reviews/FOX-News-Reviews-E19525.htm'}, {'link': 'https://www.glassdoor.com/Reviews/ALM-Reviews-E340655.htm'}, {'link': 'https://www.glassdoor.com/Reviews/Research-Foundation-of-CUNY-Reviews-E17450.htm'}, {'link': 'https://www.glassdoor.com/Reviews/Michaels-Reviews-E945.htm'}, {'link': 'https://www.glassdoor.com/Reviews/Six-Flags-Reviews-E6021.htm'}, {'link': 'https://www.glassdoor.com/Reviews/Tory-Burch-Reviews-E38635.htm'}, {'link': 'https://www.glassdoor.com/Reviews/The-Nature-s-Bounty-Co-Reviews-E1686.htm'}, {'link': 'https://www.glassdoor.com/Reviews/City-College-of-New-York-Reviews-E128592.htm'}, {'link': 'https://www.glassdoor.com/Reviews/Postmates-Reviews-E620298.htm'}, {'link': 'https://www.glassdoor.com/Reviews/Macquarie-Group-Reviews-E12088.htm'}, {'link': 'https://www.glassdoor.com/Reviews/McCann-Worldgroup-Reviews-E14074.htm'}, {'link': 'https://www.glassdoor.com/Reviews/Cantor-Fitzgerald-Reviews-E12073.htm'}, {'link': 'https://www.glassdoor.com/Reviews/Wolters-Kluwer-Reviews-E10497.htm'}, {'link': 'https://www.glassdoor.com/Reviews/Cushman-and-Wakefield-Reviews-E7416.htm'}, {'link': 'https://www.glassdoor.com/Reviews/St-John-s-University-Reviews-E5329.htm'}, {'link': 'https://www.glassdoor.com/Reviews/Party-City-Reviews-E6126.htm'}, {'link': 'https://www.glassdoor.com/Reviews/Meredith-Corporation-Reviews-E439.htm'}, {'link': 'https://www.glassdoor.com/Reviews/Uncommon-Schools-Reviews-E315867.htm'}, {'link': 'https://www.glassdoor.com/Reviews/Bethpage-Federal-Credit-Union-Reviews-E149409.htm'}, {'link': 'https://www.glassdoor.com/Reviews/FedEx-Reviews-E246.htm'}, {'link': 'https://www.glassdoor.com/Reviews/Mondelēz-International-Reviews-E628257.htm'}, {'link': 'https://www.glassdoor.com/Reviews/Teach-for-America-Reviews-E105049.htm'}, {'link': 'https://www.glassdoor.com/Reviews/Henry-Schein-Reviews-E5319.htm'}, {'link': 'https://www.glassdoor.com/Reviews/Metropolitan-Museum-of-Art-Reviews-E238657.htm'}, {'link': 'https://www.glassdoor.com/Reviews/5W-Public-Relations-Reviews-E33873.htm'}, {'link': 'https://www.glassdoor.com/Reviews/SCO-Family-of-Services-Reviews-E574431.htm'}, {'link': 'https://www.glassdoor.com/Reviews/Bath-and-Body-Works-Reviews-E13902.htm'}, {'link': 'https://www.glassdoor.com/Reviews/Willis-Towers-Watson-Reviews-E1122768.htm'}, {'link': 'https://www.glassdoor.com/Reviews/OMD-Reviews-E28659.htm'}, {'link': 'https://www.glassdoor.com/Reviews/Mizuho-Financial-Group-Reviews-E42320.htm'}, {'link': 'https://www.glassdoor.com/Reviews/Everyday-Health-Group-Reviews-E101724.htm'}, {'link': 'https://www.glassdoor.com/Reviews/Albert-Einstein-College-of-Medicine-Reviews-E128404.htm'}, {'link': 'https://www.glassdoor.com/Reviews/Facebook-Reviews-E40772.htm'}, {'link': 'https://www.glassdoor.com/Reviews/CBRE-Reviews-E465818.htm'}, {'link': 'https://www.glassdoor.com/Reviews/Fitch-Ratings-Reviews-E8579.htm'}, {'link': 'https://www.glassdoor.com/Reviews/Barneys-Reviews-E4070.htm'}, {'link': 'https://www.glassdoor.com/Reviews/The-Coca-Cola-Company-Reviews-E161.htm'}, {'link': 'https://www.glassdoor.com/Reviews/LinkedIn-Reviews-E34865.htm'}, {'link': 'https://www.glassdoor.com/Reviews/Oliver-Wyman-Reviews-E40206.htm'}, {'link': 'https://www.glassdoor.com/Reviews/Raymour-and-Flanigan-Reviews-E16061.htm'}, {'link': 'https://www.glassdoor.com/Reviews/Verisk-Analytics-Reviews-E140233.htm'}, {'link': 'https://www.glassdoor.com/Reviews/Conduent-Reviews-E1492856.htm'}, {'link': 'https://www.glassdoor.com/Reviews/Ricoh-USA-Reviews-E21210.htm'}, {'link': 'https://www.glassdoor.com/Reviews/inVentiv-Health-Reviews-E9919.htm'}, {'link': 'https://www.glassdoor.com/Reviews/IPsoft-Reviews-E101271.htm'}, {'link': 'https://www.glassdoor.com/Reviews/IQVIA-Reviews-E8347.htm'}, {'link': 'https://www.glassdoor.com/Reviews/Adecco-Reviews-E1089.htm'}, {'link': 'https://www.glassdoor.com/Reviews/360i-Reviews-E28489.htm'}, {'link': 'https://www.glassdoor.com/Reviews/T3-Trading-Group-Reviews-E489104.htm'}, {'link': 'https://www.glassdoor.com/Reviews/Walt-Disney-Company-Reviews-E717.htm'}, {'link': 'https://www.glassdoor.com/Reviews/Marsh-and-McLennan-Companies-Reviews-E426.htm'}, {'link': 'https://www.glassdoor.com/Reviews/Information-Builders-Reviews-E4044.htm'}, {'link': 'https://www.glassdoor.com/Reviews/IHS-Markit-Reviews-E1337673.htm'}, {'link': 'https://www.glassdoor.com/Reviews/PageGroup-Reviews-E749832.htm'}, {'link': 'https://www.glassdoor.com/Reviews/E-TRADE-Financial-Reviews-E6005.htm'}, {'link': 'https://www.glassdoor.com/Reviews/Oxford-University-Press-Reviews-E587409.htm'}, {'link': 'https://www.glassdoor.com/Reviews/Club-Monaco-Reviews-E142558.htm'}, {'link': 'https://www.glassdoor.com/Reviews/Green-Key-Resources-Reviews-E312916.htm'}, {'link': 'https://www.glassdoor.com/Reviews/Harlem-Children-s-Zone-Reviews-E251788.htm'}, {'link': 'https://www.glassdoor.com/Reviews/Global-Brands-Group-Reviews-E877517.htm'}, {'link': 'https://www.glassdoor.com/Reviews/The-Forum-Group-Reviews-E319898.htm'}, {'link': 'https://www.glassdoor.com/Reviews/College-Board-Reviews-E18437.htm'}, {'link': 'https://www.glassdoor.com/Reviews/Forrest-Solutions-Reviews-E338388.htm'}, {'link': 'https://www.glassdoor.com/Reviews/Valley-National-Bancorp-Reviews-E2007.htm'}, {'link': 'https://www.glassdoor.com/Reviews/Realogy-Reviews-E41918.htm'}, {'link': 'https://www.glassdoor.com/Reviews/Tommy-Hilfiger-Reviews-E5763.htm'}, {'link': 'https://www.glassdoor.com/Reviews/Kaplan-Test-Prep-Reviews-E297128.htm'}, {'link': 'https://www.glassdoor.com/Reviews/The-Jones-Group-Reviews-E1971.htm'}, {'link': 'https://www.glassdoor.com/Reviews/JLL-Reviews-E5779.htm'}, {'link': 'https://www.glassdoor.com/Reviews/Turner-Construction-Reviews-E19014.htm'}, {'link': 'https://www.glassdoor.com/Reviews/FTI-Consulting-Reviews-E6069.htm'}, {'link': 'https://www.glassdoor.com/Reviews/National-Grid-USA-Reviews-E474.htm'}, {'link': 'https://www.glassdoor.com/Reviews/MongoDB-Reviews-E433703.htm'}, {'link': 'https://www.glassdoor.com/Reviews/New-York-Public-Library-Reviews-E5416.htm'}, {'link': 'https://www.glassdoor.com/Reviews/Petco-Reviews-E37962.htm'}, {'link': 'https://www.glassdoor.com/Reviews/Roche-Reviews-E3480.htm'}, {'link': 'https://www.glassdoor.com/Reviews/Grant-Thornton-Reviews-E100134.htm'}, {'link': 'https://www.glassdoor.com/Reviews/iHeartMedia-Reviews-E354635.htm'}, {'link': 'https://www.glassdoor.com/Reviews/J-Walter-Thompson-Worldwide-Reviews-E13666.htm'}, {'link': 'https://www.glassdoor.com/Reviews/Bank-Of-Tokyo-Mitsubishi-UFJ-Reviews-E240039.htm'}, {'link': 'https://www.glassdoor.com/Reviews/Ipreo-Reviews-E12636.htm'}, {'link': 'https://www.glassdoor.com/Reviews/Siemens-Reviews-E3510.htm'}, {'link': 'https://www.glassdoor.com/Reviews/Spotify-Reviews-E408251.htm'}, {'link': 'https://www.glassdoor.com/Reviews/Fidelis-Care-Reviews-E27742.htm'}, {'link': 'https://www.glassdoor.com/Reviews/The-NPD-Group-Reviews-E6937.htm'}, {'link': 'https://www.glassdoor.com/Reviews/VaynerMedia-Reviews-E482441.htm'}, {'link': 'https://www.glassdoor.com/Reviews/Rockefeller-University-Reviews-E5419.htm'}, {'link': 'https://www.glassdoor.com/Reviews/HCL-Technologies-Reviews-E553909.htm'}, {'link': 'https://www.glassdoor.com/Reviews/Wendy-s-Reviews-E728.htm'}, {'link': 'https://www.glassdoor.com/Reviews/Allied-Universal-Reviews-E1352584.htm'}, {'link': 'https://www.glassdoor.com/Reviews/Kumon-Group-Reviews-E195805.htm'}, {'link': 'https://www.glassdoor.com/Reviews/FINRA-Reviews-E108071.htm'}, {'link': 'https://www.glassdoor.com/Reviews/FLIK-Hospitality-Group-Reviews-E683103.htm'}, {'link': 'https://www.glassdoor.com/Reviews/Blue-Apron-Reviews-E777496.htm'}, {'link': 'https://www.glassdoor.com/Reviews/CDM-Reviews-E38955.htm'}, {'link': 'https://www.glassdoor.com/Reviews/AlphaSights-Reviews-E465088.htm'}, {'link': 'https://www.glassdoor.com/Reviews/Neuberger-Berman-Reviews-E8711.htm'}, {'link': 'https://www.glassdoor.com/Reviews/Rent-The-Runway-Reviews-E473698.htm'}, {'link': 'https://www.glassdoor.com/Reviews/Brookhaven-National-Laboratory-Reviews-E35239.htm'}, {'link': 'https://www.glassdoor.com/Reviews/Ericsson-Worldwide-Reviews-E3472.htm'}, {'link': 'https://www.glassdoor.com/Reviews/State-Farm-Reviews-E2990.htm'}, {'link': 'https://www.glassdoor.com/Reviews/PetSmart-Reviews-E2375.htm'}, {'link': 'https://www.glassdoor.com/Reviews/H-and-R-Block-Reviews-E303.htm'}, {'link': 'https://www.glassdoor.com/Reviews/Fragomen-Reviews-E109142.htm'}, {'link': 'https://www.glassdoor.com/Reviews/WW-Reviews-E6970.htm'}, {'link': 'https://www.glassdoor.com/Reviews/Rue-Gilt-Groupe-Reviews-E369485.htm'}, {'link': 'https://www.glassdoor.com/Reviews/Douglas-Elliman-Real-Estate-Reviews-E277679.htm'}, {'link': 'https://www.glassdoor.com/Reviews/7-Eleven-Reviews-E3581.htm'}, {'link': 'https://www.glassdoor.com/Reviews/LexisNexis-Legal-and-Professional-Reviews-E4146.htm'}, {'link': 'https://www.glassdoor.com/Reviews/RSM-Reviews-E691963.htm'}, {'link': 'https://www.glassdoor.com/Reviews/Vice-Media-Reviews-E26906.htm'}, {'link': 'https://www.glassdoor.com/Reviews/New-York-Community-Bancorp-Reviews-E2492.htm'}, {'link': 'https://www.glassdoor.com/Reviews/Long-Island-University-Reviews-E26448.htm'}, {'link': 'https://www.glassdoor.com/Reviews/Thomas-Reviews-E586327.htm'}, {'link': 'https://www.glassdoor.com/Reviews/Makerbot-Reviews-E480203.htm'}, {'link': 'https://www.glassdoor.com/Reviews/Fidelity-Investments-Reviews-E2786.htm'}, {'link': 'https://www.glassdoor.com/Reviews/European-Wax-Center-Reviews-E397347.htm'}, {'link': 'https://www.glassdoor.com/Reviews/Gensler-Reviews-E14045.htm'}, {'link': 'https://www.glassdoor.com/Reviews/National-Income-Life-Reviews-E352862.htm'}, {'link': 'https://www.glassdoor.com/Reviews/Bio-Reference-Labs-Reviews-E4766.htm'}, {'link': 'https://www.glassdoor.com/Reviews/Vector-Marketing-Reviews-E26785.htm'}, {'link': 'https://www.glassdoor.com/Reviews/MAC-Cosmetics-Reviews-E229529.htm'}, {'link': 'https://www.glassdoor.com/Reviews/TD-Ameritrade-Reviews-E6601.htm'}, {'link': 'https://www.glassdoor.com/Reviews/Nasdaq-Reviews-E12152.htm'}, {'link': 'https://www.glassdoor.com/Reviews/Mercedes-Benz-USA-Reviews-E23354.htm'}, {'link': 'https://www.glassdoor.com/Reviews/MEC-Reviews-E15242.htm'}, {'link': 'https://www.glassdoor.com/Reviews/Oscar-Health-Reviews-E812257.htm'}, {'link': 'https://www.glassdoor.com/Reviews/WarnerMedia-Reviews-E12777.htm'}, {'link': 'https://www.glassdoor.com/Reviews/Hospital-for-Special-Surgery-Reviews-E27388.htm'}, {'link': 'https://www.glassdoor.com/Reviews/New-York-Institute-of-Technology-Reviews-E128615.htm'}, {'link': 'https://www.glassdoor.com/Reviews/Argus-Information-and-Advisory-Services-Reviews-E108135.htm'}, {'link': 'https://www.glassdoor.com/Reviews/GroupM-Reviews-E318409.htm'}, {'link': 'https://www.glassdoor.com/Reviews/Carat-Reviews-E35841.htm'}, {'link': 'https://www.glassdoor.com/Reviews/Interbrand-Reviews-E34131.htm'}, {'link': 'https://www.glassdoor.com/Reviews/OnDeck-Reviews-E445023.htm'}, {'link': 'https://www.glassdoor.com/Reviews/Crestron-Electronics-Reviews-E11938.htm'}, {'link': 'https://www.glassdoor.com/Reviews/Weber-Shandwick-Reviews-E14342.htm'}, {'link': 'https://www.glassdoor.com/Reviews/Burger-King-Reviews-E7201.htm'}, {'link': 'https://www.glassdoor.com/Reviews/Experian-Reviews-E42406.htm'}, {'link': 'https://www.glassdoor.com/Reviews/Bright-Horizons-Family-Solutions-Reviews-E6525.htm'}, {'link': 'https://www.glassdoor.com/Reviews/kate-spade-Reviews-E17245.htm'}, {'link': 'https://www.glassdoor.com/Reviews/Baruch-College-Reviews-E31199.htm'}, {'link': 'https://www.glassdoor.com/Reviews/Sprinklr-Reviews-E427532.htm'}, {'link': 'https://www.glassdoor.com/Reviews/Integra-LifeSciences-Reviews-E5438.htm'}, {'link': 'https://www.glassdoor.com/Reviews/Spark-Foundry-Reviews-E261457.htm'}, {'link': 'https://www.glassdoor.com/Reviews/New-York-City-Housing-Authority-Reviews-E297460.htm'}, {'link': 'https://www.glassdoor.com/Reviews/Martha-Stewart-Living-Reviews-E6715.htm'}, {'link': 'https://www.glassdoor.com/Reviews/TheStreet-Reviews-E7494.htm'}, {'link': 'https://www.glassdoor.com/Reviews/Life-Time-Reviews-E21088.htm'}, {'link': 'https://www.glassdoor.com/Reviews/Aflac-Reviews-E1302.htm'}, {'link': 'https://www.glassdoor.com/Reviews/Boston-Consulting-Group-Reviews-E3879.htm'}, {'link': 'https://www.glassdoor.com/Reviews/Infor-Reviews-E15375.htm'}, {'link': 'https://www.glassdoor.com/Reviews/BAYADA-Home-Health-Care-Reviews-E153924.htm'}, {'link': 'https://www.glassdoor.com/Reviews/Discovery-Inc-Reviews-E4220.htm'}, {'link': 'https://www.glassdoor.com/Reviews/Hunter-College-Reviews-E128609.htm'}, {'link': 'https://www.glassdoor.com/Reviews/US-Standard-Products-Reviews-E965441.htm'}, {'link': 'https://www.glassdoor.com/Reviews/Keller-Williams-Reviews-E114145.htm'}, {'link': 'https://www.glassdoor.com/Reviews/The-Container-Store-Reviews-E4462.htm'}, {'link': 'https://www.glassdoor.com/Reviews/BDO-USA-Reviews-E346477.htm'}, {'link': 'https://www.glassdoor.com/Reviews/SinglePlatform-Reviews-E427415.htm'}, {'link': 'https://www.glassdoor.com/Reviews/American-Airlines-Reviews-E8.htm'}, {'link': 'https://www.glassdoor.com/Reviews/TGI-Fridays-Reviews-E109078.htm'}, {'link': 'https://www.glassdoor.com/Reviews/Wawa-Reviews-E3041.htm'}, {'link': 'https://www.glassdoor.com/Reviews/Konica-Minolta-Business-Solutions-Reviews-E27336.htm'}, {'link': 'https://www.glassdoor.com/Reviews/The-Vitamin-Shoppe-Reviews-E9653.htm'}, {'link': 'https://www.glassdoor.com/Reviews/Marsh-Reviews-E2852.htm'}, {'link': 'https://www.glassdoor.com/Reviews/FCB-Global-Reviews-E16031.htm'}, {'link': 'https://www.glassdoor.com/Reviews/Saatchi-and-Saatchi-Group-Reviews-E1466850.htm'}, {'link': 'https://www.glassdoor.com/Reviews/CareOne-Reviews-E243694.htm'}, {'link': 'https://www.glassdoor.com/Reviews/Robert-Wood-Johnson-University-Hospital-Reviews-E20191.htm'}, {'link': 'https://www.glassdoor.com/Reviews/Simon-and-Schuster-Reviews-E4148.htm'}, {'link': 'https://www.glassdoor.com/Reviews/NYC-Department-of-Human-Resource-Administration-Reviews-E245633.htm'}, {'link': 'https://www.glassdoor.com/Reviews/Subway-Reviews-E2994.htm'}, {'link': 'https://www.glassdoor.com/Reviews/DICK-S-Sporting-Goods-Reviews-E8666.htm'}, {'link': 'https://www.glassdoor.com/Reviews/EXL-Service-Reviews-E37901.htm'}, {'link': 'https://www.glassdoor.com/Reviews/Allergan-Reviews-E27.htm'}, {'link': 'https://www.glassdoor.com/Reviews/Young-and-Rubicam-Reviews-E3047.htm'}, {'link': 'https://www.glassdoor.com/Reviews/NBA-Reviews-E2908.htm'}, {'link': 'https://www.glassdoor.com/Reviews/AHRC-New-York-City-Reviews-E456300.htm'}, {'link': 'https://www.glassdoor.com/Reviews/SAP-Reviews-E10471.htm'}, {'link': 'https://www.glassdoor.com/Reviews/Domino-s-Reviews-E2770.htm'}, {'link': 'https://www.glassdoor.com/Reviews/IKEA-Reviews-E3957.htm'}, {'link': 'https://www.glassdoor.com/Reviews/GNC-Reviews-E2270.htm'}])\n"
     ]
    }
   ],
   "source": [
    "review_dict.update(results)\n",
    "print(len(review_dict.keys()))\n",
    "print(review_dict.values())"
   ]
  },
  {
   "cell_type": "code",
   "execution_count": 128,
   "metadata": {},
   "outputs": [
    {
     "data": {
      "text/plain": [
       "[' J.P. Morgan ', ' IBM ']"
      ]
     },
     "execution_count": 128,
     "metadata": {},
     "output_type": "execute_result"
    }
   ],
   "source": [
    "k_list[:2]"
   ]
  },
  {
   "cell_type": "code",
   "execution_count": 114,
   "metadata": {},
   "outputs": [
    {
     "name": "stdout",
     "output_type": "stream",
     "text": [
      "500 500\n"
     ]
    }
   ],
   "source": [
    "k_list, link_list = [], []\n",
    "for k in review_dict:\n",
    "    k_list.append(k)\n",
    "    link_list.append(review_dict[k]['link'])\n",
    "print(len(k_list), len(link_list))"
   ]
  },
  {
   "cell_type": "code",
   "execution_count": 115,
   "metadata": {},
   "outputs": [],
   "source": [
    "# counter = 0 #just the first round\n",
    "main_dict = review_dict"
   ]
  },
  {
   "cell_type": "code",
   "execution_count": 120,
   "metadata": {},
   "outputs": [
    {
     "data": {
      "text/plain": [
       "1"
      ]
     },
     "execution_count": 120,
     "metadata": {},
     "output_type": "execute_result"
    }
   ],
   "source": [
    "counter"
   ]
  },
  {
   "cell_type": "code",
   "execution_count": 139,
   "metadata": {},
   "outputs": [
    {
     "name": "stdout",
     "output_type": "stream",
     "text": [
      "49\n",
      "dict_values(['https://www.glassdoor.com/Reviews/Chase-Reviews-E690765.htm', '3.6', '3.6', '3.5', '3.2', '3.7', '3.4'])\n",
      "50\n",
      "dict_values(['https://www.glassdoor.com/Reviews/Ralph-Lauren-Reviews-E2937.htm', '3.5', '3.4', '3.2', '2.9', '3.2', '3.0'])\n",
      "51\n",
      "dict_values(['https://www.glassdoor.com/Reviews/TD-Reviews-E3767.htm', '3.6', '3.8', '3.3', '3.1', '3.8', '3.5'])\n",
      "52\n",
      "dict_values(['https://www.glassdoor.com/Reviews/Toys-R-Us-Reviews-E672.htm', '3.4', '3.2', '3.2', '2.8', '2.9', '2.9'])\n",
      "53\n",
      "dict_values(['https://www.glassdoor.com/Reviews/McDonald-s-Reviews-E432.htm', '3.4', '3.2', '3.1', '2.9', '2.9', '3.2'])\n",
      "54\n",
      "dict_values(['https://www.glassdoor.com/Reviews/Staples-Reviews-E1909.htm', '3.1', '3.0', '3.3', '2.7', '2.8', '2.9'])\n",
      "55\n",
      "dict_values(['https://www.glassdoor.com/Reviews/MetLife-Reviews-E2899.htm', '3.6', '3.5', '3.7', '3.0', '3.8', '3.3'])\n",
      "56\n",
      "dict_values(['https://www.glassdoor.com/Reviews/Shoprite-Supermarkets-Reviews-E346610.htm', '3.1', '2.9', '3.0', '2.7', '2.6', '2.7'])\n",
      "57\n",
      "dict_values(['https://www.glassdoor.com/Reviews/PepsiCo-Reviews-E522.htm', '3.6', '3.5', '3.2', '3.0', '3.7', '3.3'])\n",
      "58\n",
      "dict_values(['https://www.glassdoor.com/Reviews/Amazon-Reviews-E6036.htm', '3.8', '3.8', '3.4', '3.4', '3.9', '3.8'])\n",
      "59\n",
      "dict_values(['https://www.glassdoor.com/Reviews/L-Oréal-Reviews-E3470.htm', '3.8', '3.7', '3.1', '3.2', '3.8', '3.7'])\n",
      "60\n",
      "dict_values(['https://www.glassdoor.com/Reviews/HSBC-Holdings-Reviews-E3482.htm', '3.7', '3.6', '3.6', '3.1', '3.5', '3.4'])\n",
      "61\n",
      "dict_values(['https://www.glassdoor.com/Reviews/Google-Reviews-E9079.htm', '4.4', '4.3', '4.1', '3.8', '4.4', '4.1'])\n",
      "62\n",
      "dict_values(['https://www.glassdoor.com/Reviews/Cablevision-Systems-Reviews-E802.htm', '3.4', '3.2', '3.2', '2.9', '3.8', '3.2'])\n",
      "63\n",
      "dict_values(['https://www.glassdoor.com/Reviews/Walmart-Reviews-E715.htm', '3.2', '3.1', '2.9', '2.7', '3.3', '3.3'])\n",
      "64\n",
      "dict_values(['https://www.glassdoor.com/Reviews/Time-Inc-Reviews-E4192.htm', '3.2', '3.4', '3.8', '2.7', '3.4', '2.9'])\n",
      "65\n",
      "dict_values(['https://www.glassdoor.com/Reviews/Estée-Lauder-Companies-Reviews-E2785.htm', '3.6', '3.6', '3.3', '3.1', '3.6', '3.2'])\n",
      "66\n",
      "dict_values(['https://www.glassdoor.com/Reviews/United-Nations-Reviews-E21435.htm', '4.0', '4.0', '3.9', '3.4', '4.1', '3.5'])\n",
      "67\n",
      "dict_values(['https://www.glassdoor.com/Reviews/Wells-Fargo-Reviews-E8876.htm', '3.6', '3.5', '3.7', '3.0', '3.7', '3.5'])\n",
      "68\n",
      "dict_values(['https://www.glassdoor.com/Reviews/Whole-Foods-Market-Reviews-E422.htm', '3.6', '3.7', '3.3', '3.0', '3.6', '3.4'])\n",
      "69\n",
      "dict_values(['https://www.glassdoor.com/Reviews/Walgreens-Reviews-E716.htm', '3.0', '2.9', '2.7', '2.6', '2.9', '2.9'])\n",
      "70\n",
      "dict_values(['https://www.glassdoor.com/Reviews/Victoria-s-Secret-Reviews-E13903.htm', '3.4', '3.4', '2.8', '2.9', '3.4', '3.1'])\n",
      "71\n",
      "dict_values(['https://www.glassdoor.com/Reviews/Gap-Reviews-E114118.htm', '3.5', '3.6', '3.4', '3.1', '3.1', '3.1'])\n",
      "72\n",
      "dict_values(['https://www.glassdoor.com/Reviews/Bed-Bath-and-Beyond-Reviews-E1961.htm', '2.9', '2.8', '2.9', '2.5', '2.6', '2.5'])\n",
      "73\n",
      "dict_values(['https://www.glassdoor.com/Reviews/CA-Technologies-Reviews-E167.htm', '3.8', '3.8', '4.0', '3.1', '4.1', '3.4'])\n",
      "74\n",
      "dict_values(['https://www.glassdoor.com/Reviews/Merrill-Lynch-Reviews-E440.htm', '3.7', '3.5', '3.5', '3.2', '3.7', '3.5'])\n",
      "75\n",
      "dict_values(['https://www.glassdoor.com/Reviews/Sears-Reviews-E37984.htm', '2.8', '2.7', '3.0', '2.4', '2.6', '2.6'])\n",
      "76\n",
      "dict_values(['https://www.glassdoor.com/Reviews/Novartis-Reviews-E6667.htm', '3.8', '3.6', '3.6', '3.1', '3.9', '3.4'])\n",
      "77\n",
      "dict_values(['https://www.glassdoor.com/Reviews/Condé-Nast-Reviews-E8360.htm', '2.9', '2.5', '3.1', '2.5', '2.6', '2.8'])\n",
      "78\n",
      "dict_values(['https://www.glassdoor.com/Reviews/Metropolitan-Transportation-Authority-Reviews-E366592.htm', '3.2', '2.5', '3.6', '2.6', '3.7', '3.1'])\n",
      "79\n",
      "dict_values(['https://www.glassdoor.com/Reviews/BlackRock-Reviews-E9331.htm', '3.7', '3.8', '3.6', '3.4', '3.4', '3.6'])\n",
      "80\n",
      "dict_values(['https://www.glassdoor.com/Reviews/Abercrombie-and-Fitch-Reviews-E6756.htm', '3.3', '3.5', '3.3', '2.9', '2.8', '2.9'])\n",
      "81\n",
      "dict_values(['https://www.glassdoor.com/Reviews/T-Mobile-Reviews-E9302.htm', '4.0', '4.2', '3.8', '3.6', '4.2', '3.8'])\n",
      "82\n",
      "dict_values(['https://www.glassdoor.com/Reviews/Uniqlo-Reviews-E320880.htm', '3.0', '3.0', '2.3', '2.5', '2.9', '3.1'])\n",
      "83\n",
      "dict_values(['https://www.glassdoor.com/Reviews/Con-Edison-Reviews-E16462.htm', '3.8', '3.6', '3.7', '3.4', '4.0', '3.8'])\n",
      "84\n",
      "dict_values(['https://www.glassdoor.com/Reviews/McKinsey-and-Company-Reviews-E2893.htm', '4.4', '4.4', '3.1', '4.1', '4.4', '4.5'])\n",
      "85\n",
      "dict_values(['https://www.glassdoor.com/Reviews/Century-21-Stores-Reviews-E136156.htm', '2.5', '2.4', '2.5', '2.2', '2.3', '2.4'])\n",
      "86\n",
      "dict_values(['https://www.glassdoor.com/Reviews/Ogilvy-Reviews-E13661.htm', '3.4', '3.4', '2.9', '2.9', '2.9', '3.2'])\n",
      "87\n",
      "dict_values(['https://www.glassdoor.com/Reviews/Infosys-Reviews-E7927.htm', '3.2', '3.2', '3.1', '2.7', '2.7', '3.0'])\n",
      "88\n",
      "dict_values(['https://www.glassdoor.com/Reviews/Stony-Brook-University-Reviews-E33757.htm', '4.0', '3.9', '3.8', '3.6', '3.4', '3.6'])\n",
      "89\n",
      "dict_values(['https://www.glassdoor.com/Reviews/Lowe-s-Reviews-E415.htm', '3.3', '3.2', '2.9', '2.8', '3.4', '3.1'])\n",
      "90\n",
      "dict_values(['https://www.glassdoor.com/Reviews/Barnes-and-Noble-Reviews-E2439.htm', '3.3', '3.4', '3.3', '2.7', '2.7', '2.6'])\n",
      "91\n",
      "dict_values(['https://www.glassdoor.com/Reviews/Forever-21-Reviews-E13361.htm', '2.8', '2.6', '2.7', '2.3', '2.3', '2.6'])\n",
      "92\n",
      "dict_values(['https://www.glassdoor.com/Reviews/Capital-One-Reviews-E3736.htm', '3.8', '3.9', '3.9', '3.2', '4.1', '3.5'])\n",
      "93\n",
      "dict_values(['https://www.glassdoor.com/Reviews/Tata-Consultancy-Services-Reviews-E13461.htm', '3.7', '3.9', '3.8', '3.0', '3.0', '3.5'])\n",
      "94\n",
      "dict_values(['https://www.glassdoor.com/Reviews/US-Postal-Service-Reviews-E3032.htm', '3.0', '2.4', '2.2', '2.2', '3.6', '3.0'])\n",
      "95\n",
      "dict_values(['https://www.glassdoor.com/Reviews/Yelp-Reviews-E43314.htm', '3.2', '3.5', '3.7', '3.1', '3.3', '3.2'])\n",
      "96\n",
      "dict_values(['https://www.glassdoor.com/Reviews/Success-Academy-Charter-Schools-Reviews-E381408.htm', '3.4', '3.4', '2.7', '3.2', '3.8', '3.8'])\n",
      "97\n",
      "dict_values(['https://www.glassdoor.com/Reviews/BNP-Paribas-Reviews-E10342.htm', '3.5', '3.4', '3.7', '2.9', '3.2', '3.1'])\n",
      "98\n",
      "dict_values(['https://www.glassdoor.com/Reviews/JetBlue-Reviews-E11385.htm', '3.8', '3.8', '3.4', '3.0', '3.5', '3.5'])\n",
      "99\n",
      "dict_values(['https://www.glassdoor.com/Reviews/Nielsen-Reviews-E3776.htm', '3.5', '3.8', '3.6', '3.2', '3.1', '3.4'])\n"
     ]
    }
   ],
   "source": [
    "#     headers = {'User-Agent': 'Mozilla/5.0 (Windows NT 6.1; WOW64) AppleWebKit/537.36 (KHTML, like Gecko) Chrome/56.0.2924.76 Safari/537.36'} # This is chrome, you can set whatever browser you like\n",
    "#     response = requests.get(url, headers=headers)\n",
    "#     print(url, response.status_code)\n",
    "for r in range(100,150):\n",
    "    print(r)\n",
    "    url = link_list[r]\n",
    "    driver = webdriver.Chrome()\n",
    "    driver.get(url)\n",
    "    driver.find_element_by_xpath('//*[@id=\"EmpStats\"]/div/div[1]/div[2]/span/i').click()\n",
    "    table = driver.find_element_by_class_name('mb')\n",
    "    rows = table.find_elements_by_class_name('col-2')\n",
    "    temp_ratings = []\n",
    "    num = 1\n",
    "    for row in rows[1:]:\n",
    "        main_dict[k_list[r]]['subrating'+str(num)] = row.text\n",
    "        num +=1\n",
    "    print(main_dict[k_list[r]].values())"
   ]
  },
  {
   "cell_type": "code",
   "execution_count": 140,
   "metadata": {},
   "outputs": [
    {
     "name": "stdout",
     "output_type": "stream",
     "text": [
      "48  Merck  --  {'link': 'https://www.glassdoor.com/Reviews/Merck-Reviews-E438.htm', 'subrating1': '3.8', 'subrating2': '3.7', 'subrating3': '3.7', 'subrating4': '3.1', 'subrating5': '4.0', 'subrating6': '3.3'}\n",
      "49  Chase  --  {'link': 'https://www.glassdoor.com/Reviews/Chase-Reviews-E690765.htm', 'subrating1': '3.6', 'subrating2': '3.6', 'subrating3': '3.5', 'subrating4': '3.2', 'subrating5': '3.7', 'subrating6': '3.4'}\n",
      "50  Ralph Lauren  --  {'link': 'https://www.glassdoor.com/Reviews/Ralph-Lauren-Reviews-E2937.htm', 'subrating1': '3.5', 'subrating2': '3.4', 'subrating3': '3.2', 'subrating4': '2.9', 'subrating5': '3.2', 'subrating6': '3.0'}\n",
      "51  TD  --  {'link': 'https://www.glassdoor.com/Reviews/TD-Reviews-E3767.htm', 'subrating1': '3.6', 'subrating2': '3.8', 'subrating3': '3.3', 'subrating4': '3.1', 'subrating5': '3.8', 'subrating6': '3.5'}\n",
      "52  Toys \"R\" Us  --  {'link': 'https://www.glassdoor.com/Reviews/Toys-R-Us-Reviews-E672.htm', 'subrating1': '3.4', 'subrating2': '3.2', 'subrating3': '3.2', 'subrating4': '2.8', 'subrating5': '2.9', 'subrating6': '2.9'}\n",
      "53  McDonald's  --  {'link': 'https://www.glassdoor.com/Reviews/McDonald-s-Reviews-E432.htm', 'subrating1': '3.4', 'subrating2': '3.2', 'subrating3': '3.1', 'subrating4': '2.9', 'subrating5': '2.9', 'subrating6': '3.2'}\n",
      "54  Staples  --  {'link': 'https://www.glassdoor.com/Reviews/Staples-Reviews-E1909.htm', 'subrating1': '3.1', 'subrating2': '3.0', 'subrating3': '3.3', 'subrating4': '2.7', 'subrating5': '2.8', 'subrating6': '2.9'}\n",
      "55  MetLife  --  {'link': 'https://www.glassdoor.com/Reviews/MetLife-Reviews-E2899.htm', 'subrating1': '3.6', 'subrating2': '3.5', 'subrating3': '3.7', 'subrating4': '3.0', 'subrating5': '3.8', 'subrating6': '3.3'}\n",
      "56  Shoprite Supermarkets  --  {'link': 'https://www.glassdoor.com/Reviews/Shoprite-Supermarkets-Reviews-E346610.htm', 'subrating1': '3.1', 'subrating2': '2.9', 'subrating3': '3.0', 'subrating4': '2.7', 'subrating5': '2.6', 'subrating6': '2.7'}\n",
      "57  PepsiCo  --  {'link': 'https://www.glassdoor.com/Reviews/PepsiCo-Reviews-E522.htm', 'subrating1': '3.6', 'subrating2': '3.5', 'subrating3': '3.2', 'subrating4': '3.0', 'subrating5': '3.7', 'subrating6': '3.3'}\n",
      "58  Amazon  --  {'link': 'https://www.glassdoor.com/Reviews/Amazon-Reviews-E6036.htm', 'subrating1': '3.8', 'subrating2': '3.8', 'subrating3': '3.4', 'subrating4': '3.4', 'subrating5': '3.9', 'subrating6': '3.8'}\n",
      "59  L'Oréal  --  {'link': 'https://www.glassdoor.com/Reviews/L-Oréal-Reviews-E3470.htm', 'subrating1': '3.8', 'subrating2': '3.7', 'subrating3': '3.1', 'subrating4': '3.2', 'subrating5': '3.8', 'subrating6': '3.7'}\n",
      "60  HSBC Holdings  --  {'link': 'https://www.glassdoor.com/Reviews/HSBC-Holdings-Reviews-E3482.htm', 'subrating1': '3.7', 'subrating2': '3.6', 'subrating3': '3.6', 'subrating4': '3.1', 'subrating5': '3.5', 'subrating6': '3.4'}\n",
      "61  Google  --  {'link': 'https://www.glassdoor.com/Reviews/Google-Reviews-E9079.htm', 'subrating1': '4.4', 'subrating2': '4.3', 'subrating3': '4.1', 'subrating4': '3.8', 'subrating5': '4.4', 'subrating6': '4.1'}\n",
      "62  Cablevision Systems  --  {'link': 'https://www.glassdoor.com/Reviews/Cablevision-Systems-Reviews-E802.htm', 'subrating1': '3.4', 'subrating2': '3.2', 'subrating3': '3.2', 'subrating4': '2.9', 'subrating5': '3.8', 'subrating6': '3.2'}\n",
      "63  Walmart  --  {'link': 'https://www.glassdoor.com/Reviews/Walmart-Reviews-E715.htm', 'subrating1': '3.2', 'subrating2': '3.1', 'subrating3': '2.9', 'subrating4': '2.7', 'subrating5': '3.3', 'subrating6': '3.3'}\n",
      "64  Time Inc.  --  {'link': 'https://www.glassdoor.com/Reviews/Time-Inc-Reviews-E4192.htm', 'subrating1': '3.2', 'subrating2': '3.4', 'subrating3': '3.8', 'subrating4': '2.7', 'subrating5': '3.4', 'subrating6': '2.9'}\n",
      "65  Estée Lauder Companies  --  {'link': 'https://www.glassdoor.com/Reviews/Estée-Lauder-Companies-Reviews-E2785.htm', 'subrating1': '3.6', 'subrating2': '3.6', 'subrating3': '3.3', 'subrating4': '3.1', 'subrating5': '3.6', 'subrating6': '3.2'}\n",
      "66  United Nations  --  {'link': 'https://www.glassdoor.com/Reviews/United-Nations-Reviews-E21435.htm', 'subrating1': '4.0', 'subrating2': '4.0', 'subrating3': '3.9', 'subrating4': '3.4', 'subrating5': '4.1', 'subrating6': '3.5'}\n",
      "67  Wells Fargo  --  {'link': 'https://www.glassdoor.com/Reviews/Wells-Fargo-Reviews-E8876.htm', 'subrating1': '3.6', 'subrating2': '3.5', 'subrating3': '3.7', 'subrating4': '3.0', 'subrating5': '3.7', 'subrating6': '3.5'}\n",
      "68  Whole Foods Market  --  {'link': 'https://www.glassdoor.com/Reviews/Whole-Foods-Market-Reviews-E422.htm', 'subrating1': '3.6', 'subrating2': '3.7', 'subrating3': '3.3', 'subrating4': '3.0', 'subrating5': '3.6', 'subrating6': '3.4'}\n",
      "69  Walgreens  --  {'link': 'https://www.glassdoor.com/Reviews/Walgreens-Reviews-E716.htm', 'subrating1': '3.0', 'subrating2': '2.9', 'subrating3': '2.7', 'subrating4': '2.6', 'subrating5': '2.9', 'subrating6': '2.9'}\n",
      "70  Victoria's Secret  --  {'link': 'https://www.glassdoor.com/Reviews/Victoria-s-Secret-Reviews-E13903.htm', 'subrating1': '3.4', 'subrating2': '3.4', 'subrating3': '2.8', 'subrating4': '2.9', 'subrating5': '3.4', 'subrating6': '3.1'}\n",
      "71  Gap  --  {'link': 'https://www.glassdoor.com/Reviews/Gap-Reviews-E114118.htm', 'subrating1': '3.5', 'subrating2': '3.6', 'subrating3': '3.4', 'subrating4': '3.1', 'subrating5': '3.1', 'subrating6': '3.1'}\n",
      "72  Bed Bath & Beyond  --  {'link': 'https://www.glassdoor.com/Reviews/Bed-Bath-and-Beyond-Reviews-E1961.htm', 'subrating1': '2.9', 'subrating2': '2.8', 'subrating3': '2.9', 'subrating4': '2.5', 'subrating5': '2.6', 'subrating6': '2.5'}\n",
      "73  CA Technologies  --  {'link': 'https://www.glassdoor.com/Reviews/CA-Technologies-Reviews-E167.htm', 'subrating1': '3.8', 'subrating2': '3.8', 'subrating3': '4.0', 'subrating4': '3.1', 'subrating5': '4.1', 'subrating6': '3.4'}\n",
      "74  Merrill Lynch  --  {'link': 'https://www.glassdoor.com/Reviews/Merrill-Lynch-Reviews-E440.htm', 'subrating1': '3.7', 'subrating2': '3.5', 'subrating3': '3.5', 'subrating4': '3.2', 'subrating5': '3.7', 'subrating6': '3.5'}\n",
      "75  Sears  --  {'link': 'https://www.glassdoor.com/Reviews/Sears-Reviews-E37984.htm', 'subrating1': '2.8', 'subrating2': '2.7', 'subrating3': '3.0', 'subrating4': '2.4', 'subrating5': '2.6', 'subrating6': '2.6'}\n",
      "76  Novartis  --  {'link': 'https://www.glassdoor.com/Reviews/Novartis-Reviews-E6667.htm', 'subrating1': '3.8', 'subrating2': '3.6', 'subrating3': '3.6', 'subrating4': '3.1', 'subrating5': '3.9', 'subrating6': '3.4'}\n",
      "77  Condé Nast  --  {'link': 'https://www.glassdoor.com/Reviews/Condé-Nast-Reviews-E8360.htm', 'subrating1': '2.9', 'subrating2': '2.5', 'subrating3': '3.1', 'subrating4': '2.5', 'subrating5': '2.6', 'subrating6': '2.8'}\n",
      "78  Metropolitan Transportation Authority  --  {'link': 'https://www.glassdoor.com/Reviews/Metropolitan-Transportation-Authority-Reviews-E366592.htm', 'subrating1': '3.2', 'subrating2': '2.5', 'subrating3': '3.6', 'subrating4': '2.6', 'subrating5': '3.7', 'subrating6': '3.1'}\n",
      "79  BlackRock  --  {'link': 'https://www.glassdoor.com/Reviews/BlackRock-Reviews-E9331.htm', 'subrating1': '3.7', 'subrating2': '3.8', 'subrating3': '3.6', 'subrating4': '3.4', 'subrating5': '3.4', 'subrating6': '3.6'}\n",
      "80  Abercrombie & Fitch  --  {'link': 'https://www.glassdoor.com/Reviews/Abercrombie-and-Fitch-Reviews-E6756.htm', 'subrating1': '3.3', 'subrating2': '3.5', 'subrating3': '3.3', 'subrating4': '2.9', 'subrating5': '2.8', 'subrating6': '2.9'}\n",
      "81  T-Mobile  --  {'link': 'https://www.glassdoor.com/Reviews/T-Mobile-Reviews-E9302.htm', 'subrating1': '4.0', 'subrating2': '4.2', 'subrating3': '3.8', 'subrating4': '3.6', 'subrating5': '4.2', 'subrating6': '3.8'}\n",
      "82  Uniqlo  --  {'link': 'https://www.glassdoor.com/Reviews/Uniqlo-Reviews-E320880.htm', 'subrating1': '3.0', 'subrating2': '3.0', 'subrating3': '2.3', 'subrating4': '2.5', 'subrating5': '2.9', 'subrating6': '3.1'}\n",
      "83  Con Edison  --  {'link': 'https://www.glassdoor.com/Reviews/Con-Edison-Reviews-E16462.htm', 'subrating1': '3.8', 'subrating2': '3.6', 'subrating3': '3.7', 'subrating4': '3.4', 'subrating5': '4.0', 'subrating6': '3.8'}\n",
      "84  McKinsey & Company  --  {'link': 'https://www.glassdoor.com/Reviews/McKinsey-and-Company-Reviews-E2893.htm', 'subrating1': '4.4', 'subrating2': '4.4', 'subrating3': '3.1', 'subrating4': '4.1', 'subrating5': '4.4', 'subrating6': '4.5'}\n",
      "85  Century 21 Stores  --  {'link': 'https://www.glassdoor.com/Reviews/Century-21-Stores-Reviews-E136156.htm', 'subrating1': '2.5', 'subrating2': '2.4', 'subrating3': '2.5', 'subrating4': '2.2', 'subrating5': '2.3', 'subrating6': '2.4'}\n",
      "86  Ogilvy  --  {'link': 'https://www.glassdoor.com/Reviews/Ogilvy-Reviews-E13661.htm', 'subrating1': '3.4', 'subrating2': '3.4', 'subrating3': '2.9', 'subrating4': '2.9', 'subrating5': '2.9', 'subrating6': '3.2'}\n",
      "87  Infosys  --  {'link': 'https://www.glassdoor.com/Reviews/Infosys-Reviews-E7927.htm', 'subrating1': '3.2', 'subrating2': '3.2', 'subrating3': '3.1', 'subrating4': '2.7', 'subrating5': '2.7', 'subrating6': '3.0'}\n",
      "88  Stony Brook University  --  {'link': 'https://www.glassdoor.com/Reviews/Stony-Brook-University-Reviews-E33757.htm', 'subrating1': '4.0', 'subrating2': '3.9', 'subrating3': '3.8', 'subrating4': '3.6', 'subrating5': '3.4', 'subrating6': '3.6'}\n",
      "89  Lowe's  --  {'link': 'https://www.glassdoor.com/Reviews/Lowe-s-Reviews-E415.htm', 'subrating1': '3.3', 'subrating2': '3.2', 'subrating3': '2.9', 'subrating4': '2.8', 'subrating5': '3.4', 'subrating6': '3.1'}\n",
      "90  Barnes & Noble  --  {'link': 'https://www.glassdoor.com/Reviews/Barnes-and-Noble-Reviews-E2439.htm', 'subrating1': '3.3', 'subrating2': '3.4', 'subrating3': '3.3', 'subrating4': '2.7', 'subrating5': '2.7', 'subrating6': '2.6'}\n",
      "91  Forever 21  --  {'link': 'https://www.glassdoor.com/Reviews/Forever-21-Reviews-E13361.htm', 'subrating1': '2.8', 'subrating2': '2.6', 'subrating3': '2.7', 'subrating4': '2.3', 'subrating5': '2.3', 'subrating6': '2.6'}\n",
      "92  Capital One  --  {'link': 'https://www.glassdoor.com/Reviews/Capital-One-Reviews-E3736.htm', 'subrating1': '3.8', 'subrating2': '3.9', 'subrating3': '3.9', 'subrating4': '3.2', 'subrating5': '4.1', 'subrating6': '3.5'}\n",
      "93  Tata Consultancy Services  --  {'link': 'https://www.glassdoor.com/Reviews/Tata-Consultancy-Services-Reviews-E13461.htm', 'subrating1': '3.7', 'subrating2': '3.9', 'subrating3': '3.8', 'subrating4': '3.0', 'subrating5': '3.0', 'subrating6': '3.5'}\n",
      "94  US Postal Service  --  {'link': 'https://www.glassdoor.com/Reviews/US-Postal-Service-Reviews-E3032.htm', 'subrating1': '3.0', 'subrating2': '2.4', 'subrating3': '2.2', 'subrating4': '2.2', 'subrating5': '3.6', 'subrating6': '3.0'}\n",
      "95  Yelp  --  {'link': 'https://www.glassdoor.com/Reviews/Yelp-Reviews-E43314.htm', 'subrating1': '3.2', 'subrating2': '3.5', 'subrating3': '3.7', 'subrating4': '3.1', 'subrating5': '3.3', 'subrating6': '3.2'}\n",
      "96  Success Academy Charter Schools  --  {'link': 'https://www.glassdoor.com/Reviews/Success-Academy-Charter-Schools-Reviews-E381408.htm', 'subrating1': '3.4', 'subrating2': '3.4', 'subrating3': '2.7', 'subrating4': '3.2', 'subrating5': '3.8', 'subrating6': '3.8'}\n",
      "97  BNP Paribas  --  {'link': 'https://www.glassdoor.com/Reviews/BNP-Paribas-Reviews-E10342.htm', 'subrating1': '3.5', 'subrating2': '3.4', 'subrating3': '3.7', 'subrating4': '2.9', 'subrating5': '3.2', 'subrating6': '3.1'}\n",
      "98  JetBlue  --  {'link': 'https://www.glassdoor.com/Reviews/JetBlue-Reviews-E11385.htm', 'subrating1': '3.8', 'subrating2': '3.8', 'subrating3': '3.4', 'subrating4': '3.0', 'subrating5': '3.5', 'subrating6': '3.5'}\n",
      "99  Nielsen  --  {'link': 'https://www.glassdoor.com/Reviews/Nielsen-Reviews-E3776.htm', 'subrating1': '3.5', 'subrating2': '3.8', 'subrating3': '3.6', 'subrating4': '3.2', 'subrating5': '3.1', 'subrating6': '3.4'}\n",
      "100  Saks Fifth Avenue  --  {'link': 'https://www.glassdoor.com/Reviews/Saks-Fifth-Avenue-Reviews-E2963.htm'}\n"
     ]
    }
   ],
   "source": [
    "for i in range(99,151):\n",
    "    print(i, k_list[i], \"-- \", main_dict[k_list[i]])"
   ]
  },
  {
   "cell_type": "code",
   "execution_count": null,
   "metadata": {},
   "outputs": [],
   "source": []
  },
  {
   "cell_type": "code",
   "execution_count": null,
   "metadata": {},
   "outputs": [],
   "source": []
  },
  {
   "cell_type": "code",
   "execution_count": null,
   "metadata": {},
   "outputs": [],
   "source": [
    "### ANDREW'S HELPER CODE BELOW"
   ]
  },
  {
   "cell_type": "code",
   "execution_count": 2,
   "metadata": {},
   "outputs": [],
   "source": [
    "driver = webdriver.Chrome()"
   ]
  },
  {
   "cell_type": "code",
   "execution_count": 3,
   "metadata": {},
   "outputs": [],
   "source": [
    "driver.get('https://www.glassdoor.com/Reviews/Deloitte-Reviews-E2763.htm')"
   ]
  },
  {
   "cell_type": "code",
   "execution_count": 4,
   "metadata": {},
   "outputs": [],
   "source": [
    "driver.find_element_by_xpath('//*[@id=\"EmpStats\"]/div/div[1]/div[2]/span/i').click()"
   ]
  },
  {
   "cell_type": "code",
   "execution_count": 5,
   "metadata": {},
   "outputs": [],
   "source": [
    "table = driver.find_element_by_class_name('mb')"
   ]
  },
  {
   "cell_type": "code",
   "execution_count": 8,
   "metadata": {},
   "outputs": [],
   "source": [
    "rows = table.find_elements_by_class_name('col-2')"
   ]
  },
  {
   "cell_type": "code",
   "execution_count": 11,
   "metadata": {},
   "outputs": [],
   "source": [
    "ratings = []\n",
    "for row in rows[1:]:\n",
    "    ratings.append(row.text)"
   ]
  },
  {
   "cell_type": "code",
   "execution_count": 13,
   "metadata": {},
   "outputs": [
    {
     "data": {
      "text/plain": [
       "['3.8', '3.8', '3.0', '3.4', '3.4', '4.0']"
      ]
     },
     "execution_count": 13,
     "metadata": {},
     "output_type": "execute_result"
    }
   ],
   "source": [
    "ratings"
   ]
  },
  {
   "cell_type": "code",
   "execution_count": null,
   "metadata": {},
   "outputs": [],
   "source": []
  }
 ],
 "metadata": {
  "kernelspec": {
   "display_name": "Python 3",
   "language": "python",
   "name": "python3"
  },
  "language_info": {
   "codemirror_mode": {
    "name": "ipython",
    "version": 3
   },
   "file_extension": ".py",
   "mimetype": "text/x-python",
   "name": "python",
   "nbconvert_exporter": "python",
   "pygments_lexer": "ipython3",
   "version": "3.7.3"
  },
  "toc": {
   "base_numbering": 1,
   "nav_menu": {},
   "number_sections": true,
   "sideBar": true,
   "skip_h1_title": false,
   "title_cell": "Table of Contents",
   "title_sidebar": "Contents",
   "toc_cell": false,
   "toc_position": {},
   "toc_section_display": true,
   "toc_window_display": false
  }
 },
 "nbformat": 4,
 "nbformat_minor": 2
}
